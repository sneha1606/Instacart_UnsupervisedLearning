{
 "cells": [
  {
   "cell_type": "markdown",
   "metadata": {},
   "source": [
    "# INSTACART DATASET"
   ]
  },
  {
   "cell_type": "markdown",
   "metadata": {},
   "source": [
    "### Import the packages required for analysing the dataset"
   ]
  },
  {
   "cell_type": "code",
   "execution_count": 1,
   "metadata": {},
   "outputs": [],
   "source": [
    "## Import all the required pacakges.\n",
    "import os\n",
    "import sys\n",
    "import pandas as pd\n",
    "import numpy as np\n",
    "from itertools import combinations, groupby\n",
    "from collections import Counter\n",
    "from apyori import apriori\n",
    "from datetime import datetime\n",
    "import matplotlib.pyplot as plt\n",
    "from scipy.cluster.hierarchy import fcluster\n",
    "import pylab\n",
    "import calendar\n",
    "import numpy as np\n",
    "import pandas as pd\n",
    "import seaborn as sn\n",
    "from scipy import stats\n",
    "from scipy.cluster.hierarchy import dendrogram, ward\n",
    "from sklearn.cluster import KMeans #for kmeans algorithm\n",
    "#For dimensionality reduction.\n",
    "from sklearn.decomposition import PCA #pca from decomposition module.\n",
    "from sklearn.preprocessing import StandardScaler\n",
    "from sklearn.preprocessing import RobustScaler\n",
    "from sklearn import decomposition #decomposition module\n",
    "#Plotting params.\n",
    "%matplotlib inline\n",
    "from pylab import rcParams\n",
    "import seaborn as sb\n",
    "rcParams['figure.figsize'] = 12, 4\n",
    "sb.set_style('whitegrid')\n",
    "\n",
    "np.random.seed(42) # set the seed to make examples repeatable"
   ]
  },
  {
   "cell_type": "markdown",
   "metadata": {},
   "source": [
    "### Load the Datasets which are to be processed"
   ]
  },
  {
   "cell_type": "code",
   "execution_count": 2,
   "metadata": {},
   "outputs": [],
   "source": [
    "## Load the dataset which you need to use\n",
    "orders_prod_prior = pd.read_csv('D:\\\\Welingkar\\\\Trim 5\\\\IM\\\\order_products__prior.csv')\n",
    "aisles = pd.read_csv('D:\\\\Welingkar\\\\Trim 5\\\\IM\\\\instacart-market-basket-analysis\\\\aisles.csv\\\\aisles.csv')\n",
    "departments = pd.read_csv('D:\\\\Welingkar\\\\Trim 5\\\\IM\\\\instacart-market-basket-analysis\\\\departments.csv\\\\departments.csv')\n",
    "products = pd.read_csv('D:\\\\Welingkar\\\\Trim 5\\\\IM\\\\instacart-market-basket-analysis\\\\products.csv\\\\products.csv')\n",
    "orders = pd.read_csv('D:\\\\Welingkar\\\\Trim 5\\\\IM\\\\instacart-market-basket-analysis\\\\orders.csv\\\\orders.csv')\n",
    "order_products_train = pd.read_csv('D:\\\\Welingkar\\\\Trim 5\\\\IM\\\\instacart-market-basket-analysis\\\\order_products__train.csv\\\\order_products__train.csv')"
   ]
  },
  {
   "cell_type": "code",
   "execution_count": 3,
   "metadata": {
    "scrolled": false
   },
   "outputs": [
    {
     "name": "stdout",
     "output_type": "stream",
     "text": [
      "Datatypes of the aisles dataframe:\n",
      " aisle_id     int64\n",
      "aisle       object\n",
      "dtype: object\n",
      "The top 5 rows of aisles dataframe:\n",
      "    aisle_id                       aisle\n",
      "0         1       prepared soups salads\n",
      "1         2           specialty cheeses\n",
      "2         3         energy granola bars\n",
      "3         4               instant foods\n",
      "4         5  marinades meat preparation\n",
      "Count the total number of null values:\n",
      " aisle_id    0\n",
      "aisle       0\n",
      "dtype: int64\n"
     ]
    }
   ],
   "source": [
    "print(\"Datatypes of the aisles dataframe:\\n\",aisles.dtypes)\n",
    "print(\"The top 5 rows of aisles dataframe:\\n\",aisles.head())\n",
    "print(\"Count the total number of null values:\\n\",aisles.isna().sum(axis = 0))"
   ]
  },
  {
   "cell_type": "code",
   "execution_count": 4,
   "metadata": {},
   "outputs": [
    {
     "name": "stdout",
     "output_type": "stream",
     "text": [
      "Datatypes of the departments dataframe:\n",
      " department_id     int64\n",
      "department       object\n",
      "dtype: object\n",
      "The top 5 rows of departments dataframe:\n",
      "    department_id department\n",
      "0              1     frozen\n",
      "1              2      other\n",
      "2              3     bakery\n",
      "3              4    produce\n",
      "4              5    alcohol\n",
      "Count the total number of null values:\n",
      " department_id    0\n",
      "department       0\n",
      "dtype: int64\n"
     ]
    }
   ],
   "source": [
    "print(\"Datatypes of the departments dataframe:\\n\",departments.dtypes)\n",
    "print(\"The top 5 rows of departments dataframe:\\n\",departments.head())\n",
    "print(\"Count the total number of null values:\\n\",departments.isna().sum(axis = 0))"
   ]
  },
  {
   "cell_type": "code",
   "execution_count": 5,
   "metadata": {},
   "outputs": [
    {
     "name": "stdout",
     "output_type": "stream",
     "text": [
      "Datatypes of the products dataframe:\n",
      " product_id        int64\n",
      "product_name     object\n",
      "aisle_id          int64\n",
      "department_id     int64\n",
      "dtype: object\n",
      "The top 5 rows of products dataframe:\n",
      "    product_id                                       product_name  aisle_id  \\\n",
      "0           1                         Chocolate Sandwich Cookies        61   \n",
      "1           2                                   All-Seasons Salt       104   \n",
      "2           3               Robust Golden Unsweetened Oolong Tea        94   \n",
      "3           4  Smart Ones Classic Favorites Mini Rigatoni Wit...        38   \n",
      "4           5                          Green Chile Anytime Sauce         5   \n",
      "\n",
      "   department_id  \n",
      "0             19  \n",
      "1             13  \n",
      "2              7  \n",
      "3              1  \n",
      "4             13  \n",
      "Count the total number of null values:\n",
      " product_id       0\n",
      "product_name     0\n",
      "aisle_id         0\n",
      "department_id    0\n",
      "dtype: int64\n"
     ]
    }
   ],
   "source": [
    "print(\"Datatypes of the products dataframe:\\n\",products.dtypes)\n",
    "print(\"The top 5 rows of products dataframe:\\n\",products.head())\n",
    "print(\"Count the total number of null values:\\n\",products.isna().sum(axis = 0))"
   ]
  },
  {
   "cell_type": "code",
   "execution_count": 6,
   "metadata": {},
   "outputs": [
    {
     "name": "stdout",
     "output_type": "stream",
     "text": [
      "Datatypes of the orders dataframe:\n",
      " order_id                    int64\n",
      "user_id                     int64\n",
      "eval_set                   object\n",
      "order_number                int64\n",
      "order_dow                   int64\n",
      "order_hour_of_day           int64\n",
      "days_since_prior_order    float64\n",
      "dtype: object\n",
      "The top 5 rows of orders dataframe:\n",
      "    order_id  user_id eval_set  order_number  order_dow  order_hour_of_day  \\\n",
      "0   2539329        1    prior             1          2                  8   \n",
      "1   2398795        1    prior             2          3                  7   \n",
      "2    473747        1    prior             3          3                 12   \n",
      "3   2254736        1    prior             4          4                  7   \n",
      "4    431534        1    prior             5          4                 15   \n",
      "\n",
      "   days_since_prior_order  \n",
      "0                     NaN  \n",
      "1                    15.0  \n",
      "2                    21.0  \n",
      "3                    29.0  \n",
      "4                    28.0  \n",
      "Count the total number of null values:\n",
      " order_id                       0\n",
      "user_id                        0\n",
      "eval_set                       0\n",
      "order_number                   0\n",
      "order_dow                      0\n",
      "order_hour_of_day              0\n",
      "days_since_prior_order    206209\n",
      "dtype: int64\n",
      "Viewing the Prior Order:\n",
      "          order_id  user_id eval_set  order_number  order_dow  \\\n",
      "0         2539329        1    prior             1          2   \n",
      "11        2168274        2    prior             1          2   \n",
      "26        1374495        3    prior             1          1   \n",
      "39        3343014        4    prior             1          6   \n",
      "45        2717275        5    prior             1          3   \n",
      "...           ...      ...      ...           ...        ...   \n",
      "3420930    969311   206205    prior             1          4   \n",
      "3420934   3189322   206206    prior             1          3   \n",
      "3421002   2166133   206207    prior             1          6   \n",
      "3421019   2227043   206208    prior             1          1   \n",
      "3421069   3154581   206209    prior             1          3   \n",
      "\n",
      "         order_hour_of_day  days_since_prior_order  \n",
      "0                        8                     NaN  \n",
      "11                      11                     NaN  \n",
      "26                      14                     NaN  \n",
      "39                      11                     NaN  \n",
      "45                      12                     NaN  \n",
      "...                    ...                     ...  \n",
      "3420930                 12                     NaN  \n",
      "3420934                 18                     NaN  \n",
      "3421002                 19                     NaN  \n",
      "3421019                 15                     NaN  \n",
      "3421069                 11                     NaN  \n",
      "\n",
      "[206209 rows x 7 columns]\n"
     ]
    }
   ],
   "source": [
    "print(\"Datatypes of the orders dataframe:\\n\",orders.dtypes)\n",
    "print(\"The top 5 rows of orders dataframe:\\n\",orders.head())\n",
    "print(\"Count the total number of null values:\\n\",orders.isna().sum(axis = 0))\n",
    "print(\"Viewing the Prior Order:\\n\",orders.loc[orders.days_since_prior_order.isna()])"
   ]
  },
  {
   "cell_type": "code",
   "execution_count": 7,
   "metadata": {},
   "outputs": [
    {
     "name": "stdout",
     "output_type": "stream",
     "text": [
      "Datatypes of the orders_prod_prior dataframe:\n",
      " order_id             int64\n",
      "product_id           int64\n",
      "add_to_cart_order    int64\n",
      "reordered            int64\n",
      "dtype: object\n",
      "The top 5 rows of orders_prod_prior dataframe:\n",
      "    order_id  product_id  add_to_cart_order  reordered\n",
      "0         2       33120                  1          1\n",
      "1         2       28985                  2          1\n",
      "2         2        9327                  3          0\n",
      "3         2       45918                  4          1\n",
      "4         2       30035                  5          0\n",
      "Count the total number of null values:\n",
      " order_id             0\n",
      "product_id           0\n",
      "add_to_cart_order    0\n",
      "reordered            0\n",
      "dtype: int64\n"
     ]
    }
   ],
   "source": [
    "print(\"Datatypes of the orders_prod_prior dataframe:\\n\",orders_prod_prior.dtypes)\n",
    "print(\"The top 5 rows of orders_prod_prior dataframe:\\n\",orders_prod_prior.head())\n",
    "print(\"Count the total number of null values:\\n\",orders_prod_prior.isna().sum(axis = 0))"
   ]
  },
  {
   "cell_type": "markdown",
   "metadata": {},
   "source": [
    "### Exploratory Data Analysis and Visualization"
   ]
  },
  {
   "cell_type": "code",
   "execution_count": 8,
   "metadata": {},
   "outputs": [
    {
     "data": {
      "text/plain": [
       "[Text(0.5, 0, 'Hour Of The Day'),\n",
       " Text(0.5, 1.0, 'Order Count Across Hour Of The Day')]"
      ]
     },
     "execution_count": 8,
     "metadata": {},
     "output_type": "execute_result"
    },
    {
     "data": {
      "image/png": "[encoded data removed]",
      "text/plain": [
       "<Figure size 1440x360 with 1 Axes>"
      ]
     },
     "metadata": {},
     "output_type": "display_data"
    }
   ],
   "source": [
    "#Exploring each dataset separately to gain insights from it\n",
    "#1. When do people order\n",
    "fig,ax = plt.subplots()\n",
    "fig.set_size_inches(20,5)\n",
    "sn.countplot(data=orders,x=\"order_hour_of_day\",ax=ax,color=\"#7fcdbb\")\n",
    "ax.set(xlabel='Hour Of The Day',title=\"Order Count Across Hour Of The Day\")"
   ]
  },
  {
   "cell_type": "code",
   "execution_count": 9,
   "metadata": {},
   "outputs": [
    {
     "data": {
      "text/plain": [
       "[Text(0.5, 0, 'Day Of The Week'),\n",
       " Text(0.5, 1.0, 'Order Count Across Days Of The Week')]"
      ]
     },
     "execution_count": 9,
     "metadata": {},
     "output_type": "execute_result"
    },
    {
     "data": {
      "image/png": "[encoded data removed]",
      "text/plain": [
       "<Figure size 1440x360 with 1 Axes>"
      ]
     },
     "metadata": {},
     "output_type": "display_data"
    }
   ],
   "source": [
    "#2. At what day of the week people order\n",
    "\n",
    "fig,ax = plt.subplots()\n",
    "fig.set_size_inches(20,5)\n",
    "ordersDay = orders[[\"order_dow\"]].replace({0:\"Sunday\",1:\"Monday\",2:\"Tuesday\",3:\"Wednesday\",4:\"Thursday\",5:\"Friday\",6:\"Saturday\"})\n",
    "\n",
    "sn.countplot(color=\"#edf8b1\",data=ordersDay,x=\"order_dow\",ax=ax,order=[\"Sunday\",\"Monday\",\"Tuesday\",\"Wednesday\",\"Thursday\",\"Friday\",\"Saturday\"])\n",
    "ax.set(xlabel='Day Of The Week',title=\"Order Count Across Days Of The Week\")"
   ]
  },
  {
   "cell_type": "code",
   "execution_count": 10,
   "metadata": {},
   "outputs": [
    {
     "data": {
      "text/plain": [
       "[Text(0.5, 0, 'Hour Of The Day'), Text(0.5, 1.0, 'Reorder Count')]"
      ]
     },
     "execution_count": 10,
     "metadata": {},
     "output_type": "execute_result"
    },
    {
     "data": {
      "image/png": "[encoded data removed]",
      "text/plain": [
       "<Figure size 1440x360 with 1 Axes>"
      ]
     },
     "metadata": {},
     "output_type": "display_data"
    }
   ],
   "source": [
    "#3.When do people generally reorder\n",
    "fig,ax = plt.subplots()\n",
    "fig.set_size_inches(20,5)\n",
    "sn.countplot(color=\"#fc9272\",data=orders,x=\"days_since_prior_order\",ax=ax)\n",
    "ax.set(xlabel='Hour Of The Day',title=\"Reorder Count\")"
   ]
  },
  {
   "cell_type": "code",
   "execution_count": 11,
   "metadata": {},
   "outputs": [
    {
     "data": {
      "text/plain": [
       "[Text(0.5, 0, 'Order Count'), Text(0.5, 1.0, 'Order Count')]"
      ]
     },
     "execution_count": 11,
     "metadata": {},
     "output_type": "execute_result"
    },
    {
     "data": {
      "image/png": "[encoded data removed]",
      "text/plain": [
       "<Figure size 1440x360 with 1 Axes>"
      ]
     },
     "metadata": {},
     "output_type": "display_data"
    }
   ],
   "source": [
    "#4. How many orders users have made in general?\n",
    "orderCount = orders[orders[\"eval_set\"]==\"prior\"].groupby(by=[\"user_id\"])[\"order_id\"].count().to_frame()\n",
    "fig,ax = plt.subplots()\n",
    "fig.set_size_inches(20,5)\n",
    "sn.countplot(color=\"#bcbddc\",data=orderCount,x=\"order_id\",ax=ax)\n",
    "ax.set(xlabel='Order Count',title=\"Order Count\")"
   ]
  },
  {
   "cell_type": "code",
   "execution_count": 12,
   "metadata": {},
   "outputs": [],
   "source": [
    "## Droping column for further pre rpocessing\n",
    "orders.drop('eval_set', axis = 1, inplace = True)"
   ]
  },
  {
   "cell_type": "code",
   "execution_count": 13,
   "metadata": {},
   "outputs": [
    {
     "data": {
      "text/plain": [
       "[Text(0.5, 0, 'Order Count'),\n",
       " Text(0.5, 1.0, 'Count Of Items People Buy In Prior')]"
      ]
     },
     "execution_count": 13,
     "metadata": {},
     "output_type": "execute_result"
    },
    {
     "data": {
      "image/png": "[encoded data removed]",
      "text/plain": [
       "<Figure size 1440x1080 with 2 Axes>"
      ]
     },
     "metadata": {},
     "output_type": "display_data"
    }
   ],
   "source": [
    "#5. How many items people bought in in prior and train\n",
    "fig,(ax1,ax2) = plt.subplots(nrows=2)\n",
    "fig.set_size_inches(20,15)\n",
    "orderCountsPrior = orders_prod_prior.groupby(\"order_id\")[\"product_id\"].count().to_frame()[\"product_id\"].value_counts().to_frame()\n",
    "orderCountsPrior[\"count\"] = orderCountsPrior[\"product_id\"]\n",
    "orderCountsPrior[\"no_of_products\"] = orderCountsPrior.index\n",
    "orderCountsTrain = order_products_train.groupby(\"order_id\")[\"product_id\"].count().to_frame()[\"product_id\"].value_counts().to_frame()\n",
    "orderCountsTrain[\"count\"] = orderCountsTrain[\"product_id\"]\n",
    "orderCountsTrain[\"no_of_products\"] = orderCountsTrain.index\n",
    "sn.barplot(data=orderCountsTrain.head(50),x=\"no_of_products\",y=\"count\",ax=ax1,color='#432371')\n",
    "sn.barplot(data=orderCountsPrior.head(50),x=\"no_of_products\",y=\"count\",ax=ax2,color=\"#FAAE7B\")\n",
    "ax1.set(xlabel='Order Count',title=\"Count Of Items People Buy In Train\")\n",
    "ax2.set(xlabel='Order Count',title=\"Count Of Items People Buy In Prior\")"
   ]
  },
  {
   "cell_type": "code",
   "execution_count": 14,
   "metadata": {},
   "outputs": [
    {
     "data": {
      "text/html": [
       "<div>\n",
       "<style scoped>\n",
       "    .dataframe tbody tr th:only-of-type {\n",
       "        vertical-align: middle;\n",
       "    }\n",
       "\n",
       "    .dataframe tbody tr th {\n",
       "        vertical-align: top;\n",
       "    }\n",
       "\n",
       "    .dataframe thead th {\n",
       "        text-align: right;\n",
       "    }\n",
       "</style>\n",
       "<table border=\"1\" class=\"dataframe\">\n",
       "  <thead>\n",
       "    <tr style=\"text-align: right;\">\n",
       "      <th></th>\n",
       "      <th>product_id</th>\n",
       "      <th>count</th>\n",
       "      <th>product_name</th>\n",
       "      <th>aisle_id</th>\n",
       "      <th>department_id</th>\n",
       "    </tr>\n",
       "  </thead>\n",
       "  <tbody>\n",
       "    <tr>\n",
       "      <th>0</th>\n",
       "      <td>24852</td>\n",
       "      <td>18726</td>\n",
       "      <td>Banana</td>\n",
       "      <td>24</td>\n",
       "      <td>4</td>\n",
       "    </tr>\n",
       "    <tr>\n",
       "      <th>1</th>\n",
       "      <td>13176</td>\n",
       "      <td>15480</td>\n",
       "      <td>Bag of Organic Bananas</td>\n",
       "      <td>24</td>\n",
       "      <td>4</td>\n",
       "    </tr>\n",
       "    <tr>\n",
       "      <th>2</th>\n",
       "      <td>21137</td>\n",
       "      <td>10894</td>\n",
       "      <td>Organic Strawberries</td>\n",
       "      <td>24</td>\n",
       "      <td>4</td>\n",
       "    </tr>\n",
       "    <tr>\n",
       "      <th>3</th>\n",
       "      <td>21903</td>\n",
       "      <td>9784</td>\n",
       "      <td>Organic Baby Spinach</td>\n",
       "      <td>123</td>\n",
       "      <td>4</td>\n",
       "    </tr>\n",
       "    <tr>\n",
       "      <th>4</th>\n",
       "      <td>47626</td>\n",
       "      <td>8135</td>\n",
       "      <td>Large Lemon</td>\n",
       "      <td>24</td>\n",
       "      <td>4</td>\n",
       "    </tr>\n",
       "    <tr>\n",
       "      <th>5</th>\n",
       "      <td>47766</td>\n",
       "      <td>7409</td>\n",
       "      <td>Organic Avocado</td>\n",
       "      <td>24</td>\n",
       "      <td>4</td>\n",
       "    </tr>\n",
       "    <tr>\n",
       "      <th>6</th>\n",
       "      <td>47209</td>\n",
       "      <td>7293</td>\n",
       "      <td>Organic Hass Avocado</td>\n",
       "      <td>24</td>\n",
       "      <td>4</td>\n",
       "    </tr>\n",
       "    <tr>\n",
       "      <th>7</th>\n",
       "      <td>16797</td>\n",
       "      <td>6494</td>\n",
       "      <td>Strawberries</td>\n",
       "      <td>24</td>\n",
       "      <td>4</td>\n",
       "    </tr>\n",
       "    <tr>\n",
       "      <th>8</th>\n",
       "      <td>26209</td>\n",
       "      <td>6033</td>\n",
       "      <td>Limes</td>\n",
       "      <td>24</td>\n",
       "      <td>4</td>\n",
       "    </tr>\n",
       "    <tr>\n",
       "      <th>9</th>\n",
       "      <td>27966</td>\n",
       "      <td>5546</td>\n",
       "      <td>Organic Raspberries</td>\n",
       "      <td>123</td>\n",
       "      <td>4</td>\n",
       "    </tr>\n",
       "  </tbody>\n",
       "</table>\n",
       "</div>"
      ],
      "text/plain": [
       "   product_id  count            product_name  aisle_id  department_id\n",
       "0       24852  18726                  Banana        24              4\n",
       "1       13176  15480  Bag of Organic Bananas        24              4\n",
       "2       21137  10894    Organic Strawberries        24              4\n",
       "3       21903   9784    Organic Baby Spinach       123              4\n",
       "4       47626   8135             Large Lemon        24              4\n",
       "5       47766   7409         Organic Avocado        24              4\n",
       "6       47209   7293    Organic Hass Avocado        24              4\n",
       "7       16797   6494            Strawberries        24              4\n",
       "8       26209   6033                   Limes        24              4\n",
       "9       27966   5546     Organic Raspberries       123              4"
      ]
     },
     "execution_count": 14,
     "metadata": {},
     "output_type": "execute_result"
    },
    {
     "data": {
      "image/png": "[encoded data removed]",
      "text/plain": [
       "<Figure size 1800x720 with 1 Axes>"
      ]
     },
     "metadata": {},
     "output_type": "display_data"
    }
   ],
   "source": [
    "#6. Best selling products\n",
    "productsCount = order_products_train[\"product_id\"].value_counts().to_frame()\n",
    "productsCount[\"count\"] = productsCount.product_id\n",
    "productsCount[\"product_id\"] = productsCount.index\n",
    "mergedData = pd.merge(productsCount,products,how=\"left\",on=\"product_id\").sort_values(by=\"count\",ascending=False)\n",
    "\n",
    "fig,ax = plt.subplots()\n",
    "fig.set_size_inches(25,10)\n",
    "sn.barplot(data=mergedData.head(30),x=\"product_name\",y=\"count\",ax=ax,orient=\"v\",color= \"r\")\n",
    "ax.set(xlabel='Product Names',ylabel=\"Count\",title=\"Best Selling Products\")\n",
    "plt.xticks(rotation=90)\n",
    "\n",
    "mergedData.head(10)"
   ]
  },
  {
   "cell_type": "code",
   "execution_count": 15,
   "metadata": {},
   "outputs": [
    {
     "data": {
      "text/html": [
       "<div>\n",
       "<style scoped>\n",
       "    .dataframe tbody tr th:only-of-type {\n",
       "        vertical-align: middle;\n",
       "    }\n",
       "\n",
       "    .dataframe tbody tr th {\n",
       "        vertical-align: top;\n",
       "    }\n",
       "\n",
       "    .dataframe thead th {\n",
       "        text-align: right;\n",
       "    }\n",
       "</style>\n",
       "<table border=\"1\" class=\"dataframe\">\n",
       "  <thead>\n",
       "    <tr style=\"text-align: right;\">\n",
       "      <th></th>\n",
       "      <th>product_id</th>\n",
       "      <th>count</th>\n",
       "      <th>reordered_count</th>\n",
       "      <th>reordered_ratio</th>\n",
       "      <th>product_name</th>\n",
       "      <th>aisle_id</th>\n",
       "      <th>department_id</th>\n",
       "    </tr>\n",
       "  </thead>\n",
       "  <tbody>\n",
       "    <tr>\n",
       "      <th>0</th>\n",
       "      <td>43334</td>\n",
       "      <td>1</td>\n",
       "      <td>1.0</td>\n",
       "      <td>1.0</td>\n",
       "      <td>Classics Hot Cocoa Mix Variety Pack</td>\n",
       "      <td>90</td>\n",
       "      <td>7</td>\n",
       "    </tr>\n",
       "    <tr>\n",
       "      <th>1</th>\n",
       "      <td>24324</td>\n",
       "      <td>1</td>\n",
       "      <td>1.0</td>\n",
       "      <td>1.0</td>\n",
       "      <td>Vitamin B-12 1000 mcg</td>\n",
       "      <td>47</td>\n",
       "      <td>11</td>\n",
       "    </tr>\n",
       "    <tr>\n",
       "      <th>2</th>\n",
       "      <td>3171</td>\n",
       "      <td>2</td>\n",
       "      <td>2.0</td>\n",
       "      <td>1.0</td>\n",
       "      <td>Beef Raviolis Pasta in Meat Sauce</td>\n",
       "      <td>59</td>\n",
       "      <td>15</td>\n",
       "    </tr>\n",
       "    <tr>\n",
       "      <th>3</th>\n",
       "      <td>20611</td>\n",
       "      <td>2</td>\n",
       "      <td>2.0</td>\n",
       "      <td>1.0</td>\n",
       "      <td>3 Ply Wheat Straw Bath Tissue</td>\n",
       "      <td>54</td>\n",
       "      <td>17</td>\n",
       "    </tr>\n",
       "    <tr>\n",
       "      <th>4</th>\n",
       "      <td>47221</td>\n",
       "      <td>2</td>\n",
       "      <td>2.0</td>\n",
       "      <td>1.0</td>\n",
       "      <td>Premium Roast Decaf K Cup</td>\n",
       "      <td>26</td>\n",
       "      <td>7</td>\n",
       "    </tr>\n",
       "    <tr>\n",
       "      <th>5</th>\n",
       "      <td>98</td>\n",
       "      <td>2</td>\n",
       "      <td>2.0</td>\n",
       "      <td>1.0</td>\n",
       "      <td>2% Yellow American Cheese</td>\n",
       "      <td>2</td>\n",
       "      <td>16</td>\n",
       "    </tr>\n",
       "    <tr>\n",
       "      <th>6</th>\n",
       "      <td>28558</td>\n",
       "      <td>2</td>\n",
       "      <td>2.0</td>\n",
       "      <td>1.0</td>\n",
       "      <td>Organic Irish Breakfast Black Tea</td>\n",
       "      <td>94</td>\n",
       "      <td>7</td>\n",
       "    </tr>\n",
       "    <tr>\n",
       "      <th>7</th>\n",
       "      <td>27354</td>\n",
       "      <td>2</td>\n",
       "      <td>2.0</td>\n",
       "      <td>1.0</td>\n",
       "      <td>Authentic Asia Shrimp Wonton Soup With Noodles</td>\n",
       "      <td>38</td>\n",
       "      <td>1</td>\n",
       "    </tr>\n",
       "    <tr>\n",
       "      <th>8</th>\n",
       "      <td>9361</td>\n",
       "      <td>2</td>\n",
       "      <td>2.0</td>\n",
       "      <td>1.0</td>\n",
       "      <td>Healthy Indulgence Salmon &amp; Chicken Cat Food</td>\n",
       "      <td>41</td>\n",
       "      <td>8</td>\n",
       "    </tr>\n",
       "    <tr>\n",
       "      <th>9</th>\n",
       "      <td>26851</td>\n",
       "      <td>2</td>\n",
       "      <td>2.0</td>\n",
       "      <td>1.0</td>\n",
       "      <td>Chew-Lotta Long Lasting Chewbone Dog Snacks</td>\n",
       "      <td>40</td>\n",
       "      <td>8</td>\n",
       "    </tr>\n",
       "  </tbody>\n",
       "</table>\n",
       "</div>"
      ],
      "text/plain": [
       "   product_id  count  reordered_count  reordered_ratio  \\\n",
       "0       43334      1              1.0              1.0   \n",
       "1       24324      1              1.0              1.0   \n",
       "2        3171      2              2.0              1.0   \n",
       "3       20611      2              2.0              1.0   \n",
       "4       47221      2              2.0              1.0   \n",
       "5          98      2              2.0              1.0   \n",
       "6       28558      2              2.0              1.0   \n",
       "7       27354      2              2.0              1.0   \n",
       "8        9361      2              2.0              1.0   \n",
       "9       26851      2              2.0              1.0   \n",
       "\n",
       "                                     product_name  aisle_id  department_id  \n",
       "0             Classics Hot Cocoa Mix Variety Pack        90              7  \n",
       "1                           Vitamin B-12 1000 mcg        47             11  \n",
       "2               Beef Raviolis Pasta in Meat Sauce        59             15  \n",
       "3                   3 Ply Wheat Straw Bath Tissue        54             17  \n",
       "4                       Premium Roast Decaf K Cup        26              7  \n",
       "5                       2% Yellow American Cheese         2             16  \n",
       "6               Organic Irish Breakfast Black Tea        94              7  \n",
       "7  Authentic Asia Shrimp Wonton Soup With Noodles        38              1  \n",
       "8    Healthy Indulgence Salmon & Chicken Cat Food        41              8  \n",
       "9     Chew-Lotta Long Lasting Chewbone Dog Snacks        40              8  "
      ]
     },
     "execution_count": 15,
     "metadata": {},
     "output_type": "execute_result"
    },
    {
     "data": {
      "image/png": "[encoded data removed]",
      "text/plain": [
       "<Figure size 1800x720 with 1 Axes>"
      ]
     },
     "metadata": {},
     "output_type": "display_data"
    }
   ],
   "source": [
    "#7. Top reordered products\n",
    "productsCountReordered = order_products_train[order_products_train[\"reordered\"]==1][\"product_id\"].value_counts().to_frame()\n",
    "productsCountReordered[\"reordered_count\"] = productsCountReordered.product_id\n",
    "productsCountReordered[\"product_id\"] = productsCountReordered.index\n",
    "productCountReorderedMerged = pd.merge(productsCount,productsCountReordered,how=\"left\",on=\"product_id\").sort_values(by=\"count\",ascending=False)\n",
    "productCountReorderedMerged[\"reordered_ratio\"] = productCountReorderedMerged[\"reordered_count\"]/productCountReorderedMerged[\"count\"]\n",
    "productCountReorderedMerged.sort_values(by=\"reordered_ratio\",ascending=False,inplace=True)\n",
    "productMerged = pd.merge(productCountReorderedMerged,products,how=\"left\",on=\"product_id\")\n",
    "\n",
    "fig,ax = plt.subplots()\n",
    "fig.set_size_inches(25,10)\n",
    "sn.barplot(data=productMerged[productMerged[\"count\"]>40].head(30),x=\"product_name\",y=\"reordered_ratio\",color=\"k\",ax=ax,orient=\"v\")\n",
    "ax.set(xlabel='Product Names',ylabel=\"Count\",title=\"Top Reordered Products\")\n",
    "ax.set_ylim(0.85,.95)\n",
    "plt.xticks(rotation=90)\n",
    "\n",
    "productMerged.head(10)"
   ]
  },
  {
   "cell_type": "code",
   "execution_count": 16,
   "metadata": {},
   "outputs": [
    {
     "data": {
      "text/html": [
       "<div>\n",
       "<style scoped>\n",
       "    .dataframe tbody tr th:only-of-type {\n",
       "        vertical-align: middle;\n",
       "    }\n",
       "\n",
       "    .dataframe tbody tr th {\n",
       "        vertical-align: top;\n",
       "    }\n",
       "\n",
       "    .dataframe thead th {\n",
       "        text-align: right;\n",
       "    }\n",
       "</style>\n",
       "<table border=\"1\" class=\"dataframe\">\n",
       "  <thead>\n",
       "    <tr style=\"text-align: right;\">\n",
       "      <th></th>\n",
       "      <th>product_id</th>\n",
       "      <th>count</th>\n",
       "      <th>reordered_count</th>\n",
       "      <th>first_ordered_ratio</th>\n",
       "      <th>product_name</th>\n",
       "      <th>aisle_id</th>\n",
       "      <th>department_id</th>\n",
       "    </tr>\n",
       "  </thead>\n",
       "  <tbody>\n",
       "    <tr>\n",
       "      <th>0</th>\n",
       "      <td>39239</td>\n",
       "      <td>1</td>\n",
       "      <td>1.0</td>\n",
       "      <td>1.0</td>\n",
       "      <td>Singapore Street Classic Curry Noodles</td>\n",
       "      <td>66</td>\n",
       "      <td>6</td>\n",
       "    </tr>\n",
       "    <tr>\n",
       "      <th>1</th>\n",
       "      <td>4611</td>\n",
       "      <td>1</td>\n",
       "      <td>1.0</td>\n",
       "      <td>1.0</td>\n",
       "      <td>Fair Trade Blackberry Premium Spread</td>\n",
       "      <td>88</td>\n",
       "      <td>13</td>\n",
       "    </tr>\n",
       "    <tr>\n",
       "      <th>2</th>\n",
       "      <td>34443</td>\n",
       "      <td>1</td>\n",
       "      <td>1.0</td>\n",
       "      <td>1.0</td>\n",
       "      <td>Clary Sage Essential Oil</td>\n",
       "      <td>101</td>\n",
       "      <td>17</td>\n",
       "    </tr>\n",
       "    <tr>\n",
       "      <th>3</th>\n",
       "      <td>10665</td>\n",
       "      <td>1</td>\n",
       "      <td>1.0</td>\n",
       "      <td>1.0</td>\n",
       "      <td>3 cup Glass Tupperware with Lid</td>\n",
       "      <td>85</td>\n",
       "      <td>17</td>\n",
       "    </tr>\n",
       "    <tr>\n",
       "      <th>4</th>\n",
       "      <td>19740</td>\n",
       "      <td>1</td>\n",
       "      <td>1.0</td>\n",
       "      <td>1.0</td>\n",
       "      <td>Daily Moisture Quench Beauty Bar Soap</td>\n",
       "      <td>127</td>\n",
       "      <td>11</td>\n",
       "    </tr>\n",
       "    <tr>\n",
       "      <th>5</th>\n",
       "      <td>10515</td>\n",
       "      <td>1</td>\n",
       "      <td>1.0</td>\n",
       "      <td>1.0</td>\n",
       "      <td>100% Pure Organic Maple Syrup Grade B Dark &amp; D...</td>\n",
       "      <td>29</td>\n",
       "      <td>13</td>\n",
       "    </tr>\n",
       "    <tr>\n",
       "      <th>6</th>\n",
       "      <td>14997</td>\n",
       "      <td>1</td>\n",
       "      <td>1.0</td>\n",
       "      <td>1.0</td>\n",
       "      <td>Long Hammer IPA Beer</td>\n",
       "      <td>27</td>\n",
       "      <td>5</td>\n",
       "    </tr>\n",
       "    <tr>\n",
       "      <th>7</th>\n",
       "      <td>6433</td>\n",
       "      <td>1</td>\n",
       "      <td>1.0</td>\n",
       "      <td>1.0</td>\n",
       "      <td>Raw Veggie Wrappers</td>\n",
       "      <td>13</td>\n",
       "      <td>20</td>\n",
       "    </tr>\n",
       "    <tr>\n",
       "      <th>8</th>\n",
       "      <td>1686</td>\n",
       "      <td>1</td>\n",
       "      <td>1.0</td>\n",
       "      <td>1.0</td>\n",
       "      <td>Thai Style Spring Rolls with Sweet &amp; Sour Sauce</td>\n",
       "      <td>129</td>\n",
       "      <td>1</td>\n",
       "    </tr>\n",
       "    <tr>\n",
       "      <th>9</th>\n",
       "      <td>45697</td>\n",
       "      <td>1</td>\n",
       "      <td>1.0</td>\n",
       "      <td>1.0</td>\n",
       "      <td>Ultra Strong Hold Full Control Non-Aerosol Hai...</td>\n",
       "      <td>22</td>\n",
       "      <td>11</td>\n",
       "    </tr>\n",
       "  </tbody>\n",
       "</table>\n",
       "</div>"
      ],
      "text/plain": [
       "   product_id  count  reordered_count  first_ordered_ratio  \\\n",
       "0       39239      1              1.0                  1.0   \n",
       "1        4611      1              1.0                  1.0   \n",
       "2       34443      1              1.0                  1.0   \n",
       "3       10665      1              1.0                  1.0   \n",
       "4       19740      1              1.0                  1.0   \n",
       "5       10515      1              1.0                  1.0   \n",
       "6       14997      1              1.0                  1.0   \n",
       "7        6433      1              1.0                  1.0   \n",
       "8        1686      1              1.0                  1.0   \n",
       "9       45697      1              1.0                  1.0   \n",
       "\n",
       "                                        product_name  aisle_id  department_id  \n",
       "0             Singapore Street Classic Curry Noodles        66              6  \n",
       "1               Fair Trade Blackberry Premium Spread        88             13  \n",
       "2                           Clary Sage Essential Oil       101             17  \n",
       "3                    3 cup Glass Tupperware with Lid        85             17  \n",
       "4              Daily Moisture Quench Beauty Bar Soap       127             11  \n",
       "5  100% Pure Organic Maple Syrup Grade B Dark & D...        29             13  \n",
       "6                               Long Hammer IPA Beer        27              5  \n",
       "7                                Raw Veggie Wrappers        13             20  \n",
       "8    Thai Style Spring Rolls with Sweet & Sour Sauce       129              1  \n",
       "9  Ultra Strong Hold Full Control Non-Aerosol Hai...        22             11  "
      ]
     },
     "execution_count": 16,
     "metadata": {},
     "output_type": "execute_result"
    },
    {
     "data": {
      "image/png": "[encoded data removed]",
      "text/plain": [
       "<Figure size 1800x720 with 1 Axes>"
      ]
     },
     "metadata": {},
     "output_type": "display_data"
    }
   ],
   "source": [
    "#8. Top items that are put into the cart first generally\n",
    "productsCountFirst = order_products_train[order_products_train[\"add_to_cart_order\"]==1][\"product_id\"].value_counts().to_frame()\n",
    "productsCountFirst[\"reordered_count\"] = productsCountFirst.product_id\n",
    "productsCountFirst[\"product_id\"] = productsCountFirst.index\n",
    "productCountFirstMerged = pd.merge(productsCount,productsCountFirst,how=\"left\",on=\"product_id\").sort_values(by=\"count\",ascending=False)\n",
    "productCountFirstMerged[\"first_ordered_ratio\"] = productCountFirstMerged[\"reordered_count\"]/productCountFirstMerged[\"count\"]\n",
    "productCountFirstMerged.sort_values(by=\"first_ordered_ratio\",ascending=False,inplace=True)\n",
    "firstMerged = pd.merge(productCountFirstMerged,products,how=\"left\",on=\"product_id\")\n",
    "fig,ax = plt.subplots()\n",
    "fig.set_size_inches(25,10)\n",
    "sn.barplot(data=firstMerged[firstMerged[\"count\"]>10].head(30),x=\"product_name\",y=\"first_ordered_ratio\",color=\"b\",ax=ax,orient=\"v\")\n",
    "ax.set(xlabel='Product Names',ylabel=\"Count\",title=\"Top Reordered Products\")\n",
    "ax.set_ylim(0.4,.7)\n",
    "plt.xticks(rotation=90)\n",
    "\n",
    "firstMerged.head(10)"
   ]
  },
  {
   "cell_type": "code",
   "execution_count": 17,
   "metadata": {},
   "outputs": [],
   "source": [
    "#Put them in a list to print shape.\n",
    "combined_df_list = [products,orders, departments, aisles, orders_prod_prior, order_products_train]"
   ]
  },
  {
   "cell_type": "code",
   "execution_count": 18,
   "metadata": {},
   "outputs": [
    {
     "data": {
      "text/plain": [
       "user_id\n",
       "1    11\n",
       "2    15\n",
       "3    13\n",
       "4     6\n",
       "5     5\n",
       "Name: order_number, dtype: int64"
      ]
     },
     "execution_count": 18,
     "metadata": {},
     "output_type": "execute_result"
    }
   ],
   "source": [
    "## Getting Order Users\n",
    "orders_apriori = orders.copy()\n",
    "orders_user = orders.groupby('user_id')['order_number'].max() #it takes the maximum number of orders placed\n",
    "orders_user.head()"
   ]
  },
  {
   "cell_type": "code",
   "execution_count": 19,
   "metadata": {},
   "outputs": [
    {
     "name": "stdout",
     "output_type": "stream",
     "text": [
      "         order_id  user_id  order_size\n",
      "0         2539329        1           5\n",
      "1         2398795        1           6\n",
      "2          473747        1           5\n",
      "3         2254736        1           5\n",
      "4          431534        1           8\n",
      "...           ...      ...         ...\n",
      "3214869   2558525   206209           3\n",
      "3214870   2266710   206209           9\n",
      "3214871   1854736   206209           8\n",
      "3214872    626363   206209          20\n",
      "3214873   2977660   206209           9\n",
      "\n",
      "[3214874 rows x 3 columns]\n"
     ]
    }
   ],
   "source": [
    "## Getting Order Id and Order Size\n",
    "products_user = orders[['order_id', 'user_id']].merge(\n",
    "    orders_prod_prior[['order_id', 'add_to_cart_order']].groupby('order_id').max().rename({'add_to_cart_order': 'order_size'}, axis = 1),\n",
    "                                                                                        on = 'order_id')\n",
    "print(products_user)"
   ]
  },
  {
   "cell_type": "code",
   "execution_count": 20,
   "metadata": {},
   "outputs": [
    {
     "data": {
      "text/plain": [
       "user_id\n",
       "1          59\n",
       "2         195\n",
       "3          88\n",
       "4          18\n",
       "5          37\n",
       "         ... \n",
       "206205     32\n",
       "206206    285\n",
       "206207    223\n",
       "206208    677\n",
       "206209    129\n",
       "Name: order_size, Length: 206209, dtype: int64"
      ]
     },
     "execution_count": 20,
     "metadata": {},
     "output_type": "execute_result"
    }
   ],
   "source": [
    "## Getting Product Users\n",
    "products_user = products_user.drop('order_id', axis = 1).groupby('user_id')['order_size'].sum()\n",
    "products_user"
   ]
  },
  {
   "cell_type": "code",
   "execution_count": 21,
   "metadata": {},
   "outputs": [
    {
     "data": {
      "image/png": "[encoded data removed]",
      "text/plain": [
       "<Figure size 1080x360 with 2 Axes>"
      ]
     },
     "metadata": {},
     "output_type": "display_data"
    }
   ],
   "source": [
    "#9. Plot for count of orders by users and orders by product\n",
    "fig, ax = plt.subplots(1, 2, figsize=(15,5))\n",
    "ax[0].hist(orders_user, bins = max(orders_user) - min(orders_user))\n",
    "ax[0].set_title('Count of orders by user')\n",
    "ax[0].set_xlabel('number of orders')\n",
    "ax[0].set_ylabel('count')\n",
    "\n",
    "ax[1].hist(products_user, bins = 100)\n",
    "ax[1].set_title('Count of products by user')\n",
    "ax[1].set_xlabel('number of products')\n",
    "ax[1].set_ylabel('count');"
   ]
  },
  {
   "cell_type": "code",
   "execution_count": 22,
   "metadata": {},
   "outputs": [
    {
     "data": {
      "image/png": "[encoded data removed]",
      "text/plain": [
       "<Figure size 864x288 with 1 Axes>"
      ]
     },
     "metadata": {},
     "output_type": "display_data"
    }
   ],
   "source": [
    "#10. Bar graph of Orders by Order Number\n",
    "orders_by_order_number = orders.order_number.value_counts()\n",
    "plt.bar(orders_by_order_number.index, orders_by_order_number)\n",
    "plt.title('Number of orders by order number')\n",
    "plt.xlabel('order number')\n",
    "plt.ylabel('number of orders');"
   ]
  },
  {
   "cell_type": "code",
   "execution_count": 23,
   "metadata": {},
   "outputs": [
    {
     "data": {
      "text/plain": [
       "0    600905\n",
       "1    587478\n",
       "2    467260\n",
       "5    453368\n",
       "6    448761\n",
       "3    436972\n",
       "4    426339\n",
       "Name: order_dow, dtype: int64"
      ]
     },
     "execution_count": 23,
     "metadata": {},
     "output_type": "execute_result"
    }
   ],
   "source": [
    "##Total orders per day of the week:\n",
    "\n",
    "orders_by_dow = orders.order_dow.value_counts()\n",
    "orders_by_dow"
   ]
  },
  {
   "cell_type": "code",
   "execution_count": 24,
   "metadata": {},
   "outputs": [
    {
     "data": {
      "text/plain": [
       "order_dow\n",
       "0    6209666\n",
       "1    5665856\n",
       "2    4217798\n",
       "3    3844117\n",
       "4    3787215\n",
       "5    4209533\n",
       "6    4500304\n",
       "Name: order_size, dtype: int64"
      ]
     },
     "execution_count": 24,
     "metadata": {},
     "output_type": "execute_result"
    }
   ],
   "source": [
    "##Total products per day of the week:\n",
    "\n",
    "products_by_dow = orders[['order_id', 'order_dow']].merge(\n",
    "    orders_prod_prior[['order_id', 'add_to_cart_order']].groupby('order_id').max().rename({'add_to_cart_order': 'order_size'}, axis = 1),\n",
    "    on = 'order_id')\n",
    "products_by_dow = products_by_dow.drop('order_id', axis=1).groupby('order_dow')['order_size'].sum()\n",
    "products_by_dow"
   ]
  },
  {
   "cell_type": "code",
   "execution_count": 25,
   "metadata": {},
   "outputs": [
    {
     "data": {
      "image/png": "[encoded data removed]",
      "text/plain": [
       "<Figure size 1080x360 with 2 Axes>"
      ]
     },
     "metadata": {},
     "output_type": "display_data"
    }
   ],
   "source": [
    "#11. Bar plots of Number of orders by day of week and Number of products by day of week\n",
    "fig, ax = plt.subplots(1, 2, figsize=(15, 5))\n",
    "ax[0].bar(orders_by_dow.index, orders_by_dow)\n",
    "ax[0].set_title('Number of orders by day of week')\n",
    "ax[0].set_xlabel('day of week')\n",
    "ax[0].set_ylabel('number of orders')\n",
    "\n",
    "ax[1].bar(products_by_dow.index, products_by_dow)\n",
    "ax[1].set_title('Number of products by day of week')\n",
    "ax[1].set_xlabel('day of week')\n",
    "ax[1].set_ylabel('number of products');"
   ]
  },
  {
   "cell_type": "code",
   "execution_count": 26,
   "metadata": {},
   "outputs": [
    {
     "data": {
      "text/plain": [
       "10    288418\n",
       "11    284728\n",
       "15    283639\n",
       "14    283042\n",
       "13    277999\n",
       "12    272841\n",
       "16    272553\n",
       "9     257812\n",
       "17    228795\n",
       "18    182912\n",
       "8     178201\n",
       "19    140569\n",
       "20    104292\n",
       "7      91868\n",
       "21     78109\n",
       "22     61468\n",
       "23     40043\n",
       "6      30529\n",
       "0      22758\n",
       "1      12398\n",
       "5       9569\n",
       "2       7539\n",
       "4       5527\n",
       "3       5474\n",
       "Name: order_hour_of_day, dtype: int64"
      ]
     },
     "execution_count": 26,
     "metadata": {},
     "output_type": "execute_result"
    }
   ],
   "source": [
    "## Determining the order by hour\n",
    "orders_by_hour = orders.order_hour_of_day.value_counts()\n",
    "orders_by_hour"
   ]
  },
  {
   "cell_type": "code",
   "execution_count": 27,
   "metadata": {},
   "outputs": [
    {
     "data": {
      "image/png": "[encoded data removed]",
      "text/plain": [
       "<Figure size 1080x360 with 2 Axes>"
      ]
     },
     "metadata": {},
     "output_type": "display_data"
    }
   ],
   "source": [
    "#12. Plot for Number of orders and products by hour of day \n",
    "products_by_hour = orders[['order_id', 'order_hour_of_day']].merge(\n",
    "    orders_prod_prior[['order_id', 'add_to_cart_order']].groupby('order_id').max().rename({'add_to_cart_order': 'order_size'}, axis = 1),\n",
    "    on = 'order_id')\n",
    "\n",
    "products_by_hour = products_by_hour.drop('order_id', axis = 1).groupby('order_hour_of_day')['order_size'].sum()\n",
    "\n",
    "fig, ax = plt.subplots(1, 2, figsize=(15, 5))\n",
    "ax[0].bar(orders_by_hour.index, orders_by_hour)\n",
    "ax[0].set_title('Number of orders by hour of day')\n",
    "ax[0].set_xlabel('hour of day')\n",
    "ax[0].set_ylabel('number of orders')\n",
    "\n",
    "ax[1].bar(products_by_hour.index, products_by_hour)\n",
    "ax[1].set_title('Number of products by hour of day')\n",
    "ax[1].set_xlabel('hour of day')\n",
    "ax[1].set_ylabel('number of products');"
   ]
  },
  {
   "cell_type": "code",
   "execution_count": 28,
   "metadata": {},
   "outputs": [
    {
     "name": "stderr",
     "output_type": "stream",
     "text": [
      "C:\\Anaconda\\lib\\site-packages\\numpy\\lib\\histograms.py:839: RuntimeWarning: invalid value encountered in greater_equal\n",
      "  keep = (tmp_a >= first_edge)\n",
      "C:\\Anaconda\\lib\\site-packages\\numpy\\lib\\histograms.py:840: RuntimeWarning: invalid value encountered in less_equal\n",
      "  keep &= (tmp_a <= last_edge)\n"
     ]
    },
    {
     "data": {
      "image/png": "[encoded data removed]",
      "text/plain": [
       "<Figure size 864x288 with 1 Axes>"
      ]
     },
     "metadata": {},
     "output_type": "display_data"
    }
   ],
   "source": [
    "#13. Histogram of days since prior order\n",
    "plt.hist(orders.days_since_prior_order, bins = 30)\n",
    "plt.title('Histogram of days since prior order')\n",
    "plt.xlabel('days')\n",
    "plt.ylabel('count of days');"
   ]
  },
  {
   "cell_type": "code",
   "execution_count": 29,
   "metadata": {},
   "outputs": [
    {
     "data": {
      "image/png": "[encoded data removed]",
      "text/plain": [
       "<Figure size 864x288 with 1 Axes>"
      ]
     },
     "metadata": {},
     "output_type": "display_data"
    }
   ],
   "source": [
    "#14. Plot for the count of order size\n",
    "cart_size = orders_prod_prior.groupby('order_id')['add_to_cart_order'].max()\n",
    "cart_size = cart_size.value_counts()\n",
    "plt.bar(cart_size.index, cart_size)\n",
    "plt.title('Count of order size')\n",
    "plt.xlabel('order size')\n",
    "plt.ylabel('count');"
   ]
  },
  {
   "cell_type": "code",
   "execution_count": 30,
   "metadata": {},
   "outputs": [
    {
     "data": {
      "text/html": [
       "<div>\n",
       "<style scoped>\n",
       "    .dataframe tbody tr th:only-of-type {\n",
       "        vertical-align: middle;\n",
       "    }\n",
       "\n",
       "    .dataframe tbody tr th {\n",
       "        vertical-align: top;\n",
       "    }\n",
       "\n",
       "    .dataframe thead th {\n",
       "        text-align: right;\n",
       "    }\n",
       "</style>\n",
       "<table border=\"1\" class=\"dataframe\">\n",
       "  <thead>\n",
       "    <tr style=\"text-align: right;\">\n",
       "      <th></th>\n",
       "      <th>order_id</th>\n",
       "      <th>product_id</th>\n",
       "    </tr>\n",
       "  </thead>\n",
       "  <tbody>\n",
       "    <tr>\n",
       "      <th>0</th>\n",
       "      <td>2</td>\n",
       "      <td>33120</td>\n",
       "    </tr>\n",
       "    <tr>\n",
       "      <th>1</th>\n",
       "      <td>2</td>\n",
       "      <td>28985</td>\n",
       "    </tr>\n",
       "    <tr>\n",
       "      <th>2</th>\n",
       "      <td>2</td>\n",
       "      <td>9327</td>\n",
       "    </tr>\n",
       "    <tr>\n",
       "      <th>3</th>\n",
       "      <td>2</td>\n",
       "      <td>45918</td>\n",
       "    </tr>\n",
       "    <tr>\n",
       "      <th>4</th>\n",
       "      <td>2</td>\n",
       "      <td>30035</td>\n",
       "    </tr>\n",
       "    <tr>\n",
       "      <th>...</th>\n",
       "      <td>...</td>\n",
       "      <td>...</td>\n",
       "    </tr>\n",
       "    <tr>\n",
       "      <th>4995</th>\n",
       "      <td>528</td>\n",
       "      <td>40897</td>\n",
       "    </tr>\n",
       "    <tr>\n",
       "      <th>4996</th>\n",
       "      <td>528</td>\n",
       "      <td>22182</td>\n",
       "    </tr>\n",
       "    <tr>\n",
       "      <th>4997</th>\n",
       "      <td>528</td>\n",
       "      <td>44799</td>\n",
       "    </tr>\n",
       "    <tr>\n",
       "      <th>4998</th>\n",
       "      <td>529</td>\n",
       "      <td>41844</td>\n",
       "    </tr>\n",
       "    <tr>\n",
       "      <th>4999</th>\n",
       "      <td>529</td>\n",
       "      <td>43263</td>\n",
       "    </tr>\n",
       "  </tbody>\n",
       "</table>\n",
       "<p>5000 rows × 2 columns</p>\n",
       "</div>"
      ],
      "text/plain": [
       "      order_id  product_id\n",
       "0            2       33120\n",
       "1            2       28985\n",
       "2            2        9327\n",
       "3            2       45918\n",
       "4            2       30035\n",
       "...        ...         ...\n",
       "4995       528       40897\n",
       "4996       528       22182\n",
       "4997       528       44799\n",
       "4998       529       41844\n",
       "4999       529       43263\n",
       "\n",
       "[5000 rows x 2 columns]"
      ]
     },
     "execution_count": 30,
     "metadata": {},
     "output_type": "execute_result"
    }
   ],
   "source": [
    "## Determining the transactions\n",
    "transactions_df = orders_prod_prior[['order_id', 'product_id']][:5000]\n",
    "transactions_df"
   ]
  },
  {
   "cell_type": "code",
   "execution_count": 31,
   "metadata": {},
   "outputs": [
    {
     "name": "stdout",
     "output_type": "stream",
     "text": [
      "499 2809\n"
     ]
    }
   ],
   "source": [
    "## Finding out the total orders list and the total products list\n",
    "n_orders = len(set(transactions_df.order_id))\n",
    "n_products = len(set(transactions_df.product_id))\n",
    "print(n_orders, n_products)"
   ]
  },
  {
   "cell_type": "code",
   "execution_count": 32,
   "metadata": {},
   "outputs": [
    {
     "data": {
      "image/png": "[encoded data removed]",
      "text/plain": [
       "<Figure size 864x288 with 1 Axes>"
      ]
     },
     "metadata": {},
     "output_type": "display_data"
    }
   ],
   "source": [
    "#15. Plot for the Number of times each product occurs\n",
    "product_frequency = transactions_df.product_id.value_counts() / n_orders\n",
    "plt.hist(product_frequency, bins = 100)\n",
    "plt.title('Number of times each product frequency occurs')\n",
    "plt.xlabel('product frequency')\n",
    "plt.ylabel('number of times');"
   ]
  },
  {
   "cell_type": "code",
   "execution_count": 33,
   "metadata": {},
   "outputs": [
    {
     "name": "stdout",
     "output_type": "stream",
     "text": [
      "24852    0.140281\n",
      "13176    0.120240\n",
      "21903    0.078156\n",
      "21137    0.064128\n",
      "47209    0.064128\n",
      "           ...   \n",
      "12276    0.010020\n",
      "35503    0.010020\n",
      "31343    0.010020\n",
      "40332    0.010020\n",
      "41658    0.010020\n",
      "Name: product_id, Length: 149, dtype: float64\n"
     ]
    }
   ],
   "source": [
    "## Apriori Products\n",
    "min_support = 0.01\n",
    "products_apriori = product_frequency[product_frequency >= min_support]\n",
    "print(products_apriori)"
   ]
  },
  {
   "cell_type": "code",
   "execution_count": 34,
   "metadata": {},
   "outputs": [
    {
     "data": {
      "text/html": [
       "<div>\n",
       "<style scoped>\n",
       "    .dataframe tbody tr th:only-of-type {\n",
       "        vertical-align: middle;\n",
       "    }\n",
       "\n",
       "    .dataframe tbody tr th {\n",
       "        vertical-align: top;\n",
       "    }\n",
       "\n",
       "    .dataframe thead th {\n",
       "        text-align: right;\n",
       "    }\n",
       "</style>\n",
       "<table border=\"1\" class=\"dataframe\">\n",
       "  <thead>\n",
       "    <tr style=\"text-align: right;\">\n",
       "      <th></th>\n",
       "      <th>order_id</th>\n",
       "      <th>product_id</th>\n",
       "    </tr>\n",
       "  </thead>\n",
       "  <tbody>\n",
       "    <tr>\n",
       "      <th>0</th>\n",
       "      <td>2</td>\n",
       "      <td>33120</td>\n",
       "    </tr>\n",
       "    <tr>\n",
       "      <th>1</th>\n",
       "      <td>2</td>\n",
       "      <td>28985</td>\n",
       "    </tr>\n",
       "    <tr>\n",
       "      <th>5</th>\n",
       "      <td>2</td>\n",
       "      <td>17794</td>\n",
       "    </tr>\n",
       "    <tr>\n",
       "      <th>10</th>\n",
       "      <td>3</td>\n",
       "      <td>24838</td>\n",
       "    </tr>\n",
       "    <tr>\n",
       "      <th>12</th>\n",
       "      <td>3</td>\n",
       "      <td>21903</td>\n",
       "    </tr>\n",
       "    <tr>\n",
       "      <th>...</th>\n",
       "      <td>...</td>\n",
       "      <td>...</td>\n",
       "    </tr>\n",
       "    <tr>\n",
       "      <th>4975</th>\n",
       "      <td>526</td>\n",
       "      <td>1940</td>\n",
       "    </tr>\n",
       "    <tr>\n",
       "      <th>4982</th>\n",
       "      <td>527</td>\n",
       "      <td>49235</td>\n",
       "    </tr>\n",
       "    <tr>\n",
       "      <th>4988</th>\n",
       "      <td>527</td>\n",
       "      <td>21903</td>\n",
       "    </tr>\n",
       "    <tr>\n",
       "      <th>4989</th>\n",
       "      <td>527</td>\n",
       "      <td>35939</td>\n",
       "    </tr>\n",
       "    <tr>\n",
       "      <th>4992</th>\n",
       "      <td>527</td>\n",
       "      <td>17461</td>\n",
       "    </tr>\n",
       "  </tbody>\n",
       "</table>\n",
       "<p>1429 rows × 2 columns</p>\n",
       "</div>"
      ],
      "text/plain": [
       "      order_id  product_id\n",
       "0            2       33120\n",
       "1            2       28985\n",
       "5            2       17794\n",
       "10           3       24838\n",
       "12           3       21903\n",
       "...        ...         ...\n",
       "4975       526        1940\n",
       "4982       527       49235\n",
       "4988       527       21903\n",
       "4989       527       35939\n",
       "4992       527       17461\n",
       "\n",
       "[1429 rows x 2 columns]"
      ]
     },
     "execution_count": 34,
     "metadata": {},
     "output_type": "execute_result"
    }
   ],
   "source": [
    "## Apriori Transcations\n",
    "transactions_apriori = transactions_df[transactions_df.product_id.isin(products_apriori.index)]\n",
    "transactions_apriori"
   ]
  },
  {
   "cell_type": "code",
   "execution_count": 35,
   "metadata": {},
   "outputs": [
    {
     "data": {
      "text/plain": [
       "431    15\n",
       "493    15\n",
       "265    14\n",
       "426    14\n",
       "359    13\n",
       "       ..\n",
       "161     1\n",
       "446     1\n",
       "301     1\n",
       "167     1\n",
       "342     1\n",
       "Name: order_id, Length: 399, dtype: int64"
      ]
     },
     "execution_count": 35,
     "metadata": {},
     "output_type": "execute_result"
    }
   ],
   "source": [
    "## Determining the order size of each transaction\n",
    "order_sizes = transactions_apriori.order_id.value_counts()\n",
    "order_sizes"
   ]
  },
  {
   "cell_type": "code",
   "execution_count": 36,
   "metadata": {},
   "outputs": [
    {
     "data": {
      "image/png": "[encoded data removed]",
      "text/plain": [
       "<Figure size 864x288 with 1 Axes>"
      ]
     },
     "metadata": {},
     "output_type": "display_data"
    }
   ],
   "source": [
    "#16. Histograms for the number of times each order size has occured\n",
    "plt.hist(order_sizes, bins = max(order_sizes) - min(order_sizes))\n",
    "plt.title('Number of times each order size occurs')\n",
    "plt.xlabel('order size')\n",
    "plt.ylabel('number of times');"
   ]
  },
  {
   "cell_type": "markdown",
   "metadata": {},
   "source": [
    "# Principal Component Analysis"
   ]
  },
  {
   "cell_type": "code",
   "execution_count": 37,
   "metadata": {},
   "outputs": [
    {
     "name": "stdout",
     "output_type": "stream",
     "text": [
      "(49688, 4)\n",
      "(3421083, 6)\n",
      "(21, 2)\n",
      "(134, 2)\n",
      "(32434489, 4)\n",
      "(1384617, 4)\n"
     ]
    }
   ],
   "source": [
    "#Check the size of the datasets.\n",
    "for i in combined_df_list:\n",
    "    print (i.shape)\n",
    "#There are two df's which are very large in size, subset to use it on local machine with limited compute power.\n",
    "del combined_df_list"
   ]
  },
  {
   "cell_type": "code",
   "execution_count": 38,
   "metadata": {},
   "outputs": [
    {
     "data": {
      "text/html": [
       "<div>\n",
       "<style scoped>\n",
       "    .dataframe tbody tr th:only-of-type {\n",
       "        vertical-align: middle;\n",
       "    }\n",
       "\n",
       "    .dataframe tbody tr th {\n",
       "        vertical-align: top;\n",
       "    }\n",
       "\n",
       "    .dataframe thead th {\n",
       "        text-align: right;\n",
       "    }\n",
       "</style>\n",
       "<table border=\"1\" class=\"dataframe\">\n",
       "  <thead>\n",
       "    <tr style=\"text-align: right;\">\n",
       "      <th></th>\n",
       "      <th>product_id</th>\n",
       "      <th>product_name</th>\n",
       "      <th>aisle_id</th>\n",
       "      <th>department_id</th>\n",
       "    </tr>\n",
       "  </thead>\n",
       "  <tbody>\n",
       "    <tr>\n",
       "      <th>0</th>\n",
       "      <td>1</td>\n",
       "      <td>Chocolate Sandwich Cookies</td>\n",
       "      <td>61</td>\n",
       "      <td>19</td>\n",
       "    </tr>\n",
       "    <tr>\n",
       "      <th>1</th>\n",
       "      <td>2</td>\n",
       "      <td>All-Seasons Salt</td>\n",
       "      <td>104</td>\n",
       "      <td>13</td>\n",
       "    </tr>\n",
       "  </tbody>\n",
       "</table>\n",
       "</div>"
      ],
      "text/plain": [
       "   product_id                product_name  aisle_id  department_id\n",
       "0           1  Chocolate Sandwich Cookies        61             19\n",
       "1           2            All-Seasons Salt       104             13"
      ]
     },
     "execution_count": 38,
     "metadata": {},
     "output_type": "execute_result"
    }
   ],
   "source": [
    "#Products Dataframe\n",
    "products.head(2)"
   ]
  },
  {
   "cell_type": "code",
   "execution_count": 39,
   "metadata": {},
   "outputs": [
    {
     "data": {
      "text/html": [
       "<div>\n",
       "<style scoped>\n",
       "    .dataframe tbody tr th:only-of-type {\n",
       "        vertical-align: middle;\n",
       "    }\n",
       "\n",
       "    .dataframe tbody tr th {\n",
       "        vertical-align: top;\n",
       "    }\n",
       "\n",
       "    .dataframe thead th {\n",
       "        text-align: right;\n",
       "    }\n",
       "</style>\n",
       "<table border=\"1\" class=\"dataframe\">\n",
       "  <thead>\n",
       "    <tr style=\"text-align: right;\">\n",
       "      <th></th>\n",
       "      <th>department_id</th>\n",
       "      <th>department</th>\n",
       "    </tr>\n",
       "  </thead>\n",
       "  <tbody>\n",
       "    <tr>\n",
       "      <th>0</th>\n",
       "      <td>1</td>\n",
       "      <td>frozen</td>\n",
       "    </tr>\n",
       "    <tr>\n",
       "      <th>1</th>\n",
       "      <td>2</td>\n",
       "      <td>other</td>\n",
       "    </tr>\n",
       "  </tbody>\n",
       "</table>\n",
       "</div>"
      ],
      "text/plain": [
       "   department_id department\n",
       "0              1     frozen\n",
       "1              2      other"
      ]
     },
     "execution_count": 39,
     "metadata": {},
     "output_type": "execute_result"
    }
   ],
   "source": [
    "#Departments Dataframe\n",
    "departments.head(2)"
   ]
  },
  {
   "cell_type": "code",
   "execution_count": 40,
   "metadata": {},
   "outputs": [
    {
     "data": {
      "text/html": [
       "<div>\n",
       "<style scoped>\n",
       "    .dataframe tbody tr th:only-of-type {\n",
       "        vertical-align: middle;\n",
       "    }\n",
       "\n",
       "    .dataframe tbody tr th {\n",
       "        vertical-align: top;\n",
       "    }\n",
       "\n",
       "    .dataframe thead th {\n",
       "        text-align: right;\n",
       "    }\n",
       "</style>\n",
       "<table border=\"1\" class=\"dataframe\">\n",
       "  <thead>\n",
       "    <tr style=\"text-align: right;\">\n",
       "      <th></th>\n",
       "      <th>aisle_id</th>\n",
       "      <th>aisle</th>\n",
       "    </tr>\n",
       "  </thead>\n",
       "  <tbody>\n",
       "    <tr>\n",
       "      <th>0</th>\n",
       "      <td>1</td>\n",
       "      <td>prepared soups salads</td>\n",
       "    </tr>\n",
       "    <tr>\n",
       "      <th>1</th>\n",
       "      <td>2</td>\n",
       "      <td>specialty cheeses</td>\n",
       "    </tr>\n",
       "  </tbody>\n",
       "</table>\n",
       "</div>"
      ],
      "text/plain": [
       "   aisle_id                  aisle\n",
       "0         1  prepared soups salads\n",
       "1         2      specialty cheeses"
      ]
     },
     "execution_count": 40,
     "metadata": {},
     "output_type": "execute_result"
    }
   ],
   "source": [
    "#Aisles Dataframe - Products are kept in aisles.\n",
    "aisles.head(2)"
   ]
  },
  {
   "cell_type": "code",
   "execution_count": 41,
   "metadata": {},
   "outputs": [
    {
     "data": {
      "text/html": [
       "<div>\n",
       "<style scoped>\n",
       "    .dataframe tbody tr th:only-of-type {\n",
       "        vertical-align: middle;\n",
       "    }\n",
       "\n",
       "    .dataframe tbody tr th {\n",
       "        vertical-align: top;\n",
       "    }\n",
       "\n",
       "    .dataframe thead th {\n",
       "        text-align: right;\n",
       "    }\n",
       "</style>\n",
       "<table border=\"1\" class=\"dataframe\">\n",
       "  <thead>\n",
       "    <tr style=\"text-align: right;\">\n",
       "      <th></th>\n",
       "      <th>order_id</th>\n",
       "      <th>user_id</th>\n",
       "      <th>order_number</th>\n",
       "      <th>order_dow</th>\n",
       "      <th>order_hour_of_day</th>\n",
       "      <th>days_since_prior_order</th>\n",
       "    </tr>\n",
       "  </thead>\n",
       "  <tbody>\n",
       "    <tr>\n",
       "      <th>0</th>\n",
       "      <td>2539329</td>\n",
       "      <td>1</td>\n",
       "      <td>1</td>\n",
       "      <td>2</td>\n",
       "      <td>8</td>\n",
       "      <td>NaN</td>\n",
       "    </tr>\n",
       "    <tr>\n",
       "      <th>1</th>\n",
       "      <td>2398795</td>\n",
       "      <td>1</td>\n",
       "      <td>2</td>\n",
       "      <td>3</td>\n",
       "      <td>7</td>\n",
       "      <td>15.0</td>\n",
       "    </tr>\n",
       "  </tbody>\n",
       "</table>\n",
       "</div>"
      ],
      "text/plain": [
       "   order_id  user_id  order_number  order_dow  order_hour_of_day  \\\n",
       "0   2539329        1             1          2                  8   \n",
       "1   2398795        1             2          3                  7   \n",
       "\n",
       "   days_since_prior_order  \n",
       "0                     NaN  \n",
       "1                    15.0  "
      ]
     },
     "execution_count": 41,
     "metadata": {},
     "output_type": "execute_result"
    }
   ],
   "source": [
    "#Orders Dataframe\n",
    "orders.head(2)"
   ]
  },
  {
   "cell_type": "code",
   "execution_count": 42,
   "metadata": {},
   "outputs": [
    {
     "data": {
      "text/html": [
       "<div>\n",
       "<style scoped>\n",
       "    .dataframe tbody tr th:only-of-type {\n",
       "        vertical-align: middle;\n",
       "    }\n",
       "\n",
       "    .dataframe tbody tr th {\n",
       "        vertical-align: top;\n",
       "    }\n",
       "\n",
       "    .dataframe thead th {\n",
       "        text-align: right;\n",
       "    }\n",
       "</style>\n",
       "<table border=\"1\" class=\"dataframe\">\n",
       "  <thead>\n",
       "    <tr style=\"text-align: right;\">\n",
       "      <th></th>\n",
       "      <th>order_id</th>\n",
       "      <th>product_id</th>\n",
       "      <th>add_to_cart_order</th>\n",
       "      <th>reordered</th>\n",
       "    </tr>\n",
       "  </thead>\n",
       "  <tbody>\n",
       "    <tr>\n",
       "      <th>0</th>\n",
       "      <td>1</td>\n",
       "      <td>49302</td>\n",
       "      <td>1</td>\n",
       "      <td>1</td>\n",
       "    </tr>\n",
       "    <tr>\n",
       "      <th>1</th>\n",
       "      <td>1</td>\n",
       "      <td>11109</td>\n",
       "      <td>2</td>\n",
       "      <td>1</td>\n",
       "    </tr>\n",
       "  </tbody>\n",
       "</table>\n",
       "</div>"
      ],
      "text/plain": [
       "   order_id  product_id  add_to_cart_order  reordered\n",
       "0         1       49302                  1          1\n",
       "1         1       11109                  2          1"
      ]
     },
     "execution_count": 42,
     "metadata": {},
     "output_type": "execute_result"
    }
   ],
   "source": [
    "#Orders Train Dataframe\n",
    "order_products_train.head(2)"
   ]
  },
  {
   "cell_type": "code",
   "execution_count": 43,
   "metadata": {},
   "outputs": [
    {
     "data": {
      "text/html": [
       "<div>\n",
       "<style scoped>\n",
       "    .dataframe tbody tr th:only-of-type {\n",
       "        vertical-align: middle;\n",
       "    }\n",
       "\n",
       "    .dataframe tbody tr th {\n",
       "        vertical-align: top;\n",
       "    }\n",
       "\n",
       "    .dataframe thead th {\n",
       "        text-align: right;\n",
       "    }\n",
       "</style>\n",
       "<table border=\"1\" class=\"dataframe\">\n",
       "  <thead>\n",
       "    <tr style=\"text-align: right;\">\n",
       "      <th></th>\n",
       "      <th>order_id</th>\n",
       "      <th>product_id</th>\n",
       "      <th>add_to_cart_order</th>\n",
       "      <th>reordered</th>\n",
       "    </tr>\n",
       "  </thead>\n",
       "  <tbody>\n",
       "    <tr>\n",
       "      <th>0</th>\n",
       "      <td>2</td>\n",
       "      <td>33120</td>\n",
       "      <td>1</td>\n",
       "      <td>1</td>\n",
       "    </tr>\n",
       "    <tr>\n",
       "      <th>1</th>\n",
       "      <td>2</td>\n",
       "      <td>28985</td>\n",
       "      <td>2</td>\n",
       "      <td>1</td>\n",
       "    </tr>\n",
       "  </tbody>\n",
       "</table>\n",
       "</div>"
      ],
      "text/plain": [
       "   order_id  product_id  add_to_cart_order  reordered\n",
       "0         2       33120                  1          1\n",
       "1         2       28985                  2          1"
      ]
     },
     "execution_count": 43,
     "metadata": {},
     "output_type": "execute_result"
    }
   ],
   "source": [
    "#Products in Orders (Prior) - These files specify which products were purchased in each order. Contains Previous Orders.\n",
    "orders_prod_prior.head(2) #notice the reordered feature."
   ]
  },
  {
   "cell_type": "code",
   "execution_count": 44,
   "metadata": {},
   "outputs": [],
   "source": [
    "#Since the dataframe is too big for in memory computation, reducing prior to only 500k rows. \n",
    "orders_prod_prior = orders_prod_prior [:500000]"
   ]
  },
  {
   "cell_type": "code",
   "execution_count": 45,
   "metadata": {},
   "outputs": [
    {
     "data": {
      "text/html": [
       "<div>\n",
       "<style scoped>\n",
       "    .dataframe tbody tr th:only-of-type {\n",
       "        vertical-align: middle;\n",
       "    }\n",
       "\n",
       "    .dataframe tbody tr th {\n",
       "        vertical-align: top;\n",
       "    }\n",
       "\n",
       "    .dataframe thead th {\n",
       "        text-align: right;\n",
       "    }\n",
       "</style>\n",
       "<table border=\"1\" class=\"dataframe\">\n",
       "  <thead>\n",
       "    <tr style=\"text-align: right;\">\n",
       "      <th></th>\n",
       "      <th>order_id</th>\n",
       "      <th>product_id</th>\n",
       "      <th>add_to_cart_order</th>\n",
       "      <th>reordered</th>\n",
       "      <th>user_id</th>\n",
       "      <th>order_number</th>\n",
       "      <th>order_dow</th>\n",
       "      <th>order_hour_of_day</th>\n",
       "      <th>days_since_prior_order</th>\n",
       "    </tr>\n",
       "  </thead>\n",
       "  <tbody>\n",
       "    <tr>\n",
       "      <th>0</th>\n",
       "      <td>2</td>\n",
       "      <td>33120</td>\n",
       "      <td>1</td>\n",
       "      <td>1</td>\n",
       "      <td>202279</td>\n",
       "      <td>3</td>\n",
       "      <td>5</td>\n",
       "      <td>9</td>\n",
       "      <td>8.0</td>\n",
       "    </tr>\n",
       "    <tr>\n",
       "      <th>1</th>\n",
       "      <td>2</td>\n",
       "      <td>28985</td>\n",
       "      <td>2</td>\n",
       "      <td>1</td>\n",
       "      <td>202279</td>\n",
       "      <td>3</td>\n",
       "      <td>5</td>\n",
       "      <td>9</td>\n",
       "      <td>8.0</td>\n",
       "    </tr>\n",
       "  </tbody>\n",
       "</table>\n",
       "</div>"
      ],
      "text/plain": [
       "   order_id  product_id  add_to_cart_order  reordered  user_id  order_number  \\\n",
       "0         2       33120                  1          1   202279             3   \n",
       "1         2       28985                  2          1   202279             3   \n",
       "\n",
       "   order_dow  order_hour_of_day  days_since_prior_order  \n",
       "0          5                  9                     8.0  \n",
       "1          5                  9                     8.0  "
      ]
     },
     "execution_count": 45,
     "metadata": {},
     "output_type": "execute_result"
    }
   ],
   "source": [
    "#Merge 1 - Prior and Orders DF (Joining Orders to prior df)\n",
    "#Combining the Prior and Orders dataframe - shows which user ordered what products and in which order.\n",
    "df1 = pd.merge(orders_prod_prior, orders, on= 'order_id')\n",
    "df1.head(2)"
   ]
  },
  {
   "cell_type": "code",
   "execution_count": 46,
   "metadata": {},
   "outputs": [
    {
     "data": {
      "text/html": [
       "<div>\n",
       "<style scoped>\n",
       "    .dataframe tbody tr th:only-of-type {\n",
       "        vertical-align: middle;\n",
       "    }\n",
       "\n",
       "    .dataframe tbody tr th {\n",
       "        vertical-align: top;\n",
       "    }\n",
       "\n",
       "    .dataframe thead th {\n",
       "        text-align: right;\n",
       "    }\n",
       "</style>\n",
       "<table border=\"1\" class=\"dataframe\">\n",
       "  <thead>\n",
       "    <tr style=\"text-align: right;\">\n",
       "      <th></th>\n",
       "      <th>product_id</th>\n",
       "      <th>product_name</th>\n",
       "      <th>aisle_id</th>\n",
       "      <th>department_id</th>\n",
       "      <th>aisle</th>\n",
       "      <th>department</th>\n",
       "    </tr>\n",
       "  </thead>\n",
       "  <tbody>\n",
       "    <tr>\n",
       "      <th>0</th>\n",
       "      <td>1</td>\n",
       "      <td>Chocolate Sandwich Cookies</td>\n",
       "      <td>61</td>\n",
       "      <td>19</td>\n",
       "      <td>cookies cakes</td>\n",
       "      <td>snacks</td>\n",
       "    </tr>\n",
       "    <tr>\n",
       "      <th>1</th>\n",
       "      <td>78</td>\n",
       "      <td>Nutter Butter Cookie Bites Go-Pak</td>\n",
       "      <td>61</td>\n",
       "      <td>19</td>\n",
       "      <td>cookies cakes</td>\n",
       "      <td>snacks</td>\n",
       "    </tr>\n",
       "  </tbody>\n",
       "</table>\n",
       "</div>"
      ],
      "text/plain": [
       "   product_id                       product_name  aisle_id  department_id  \\\n",
       "0           1         Chocolate Sandwich Cookies        61             19   \n",
       "1          78  Nutter Butter Cookie Bites Go-Pak        61             19   \n",
       "\n",
       "           aisle department  \n",
       "0  cookies cakes     snacks  \n",
       "1  cookies cakes     snacks  "
      ]
     },
     "execution_count": 46,
     "metadata": {},
     "output_type": "execute_result"
    }
   ],
   "source": [
    "#Merge 2\n",
    "#Combining the department and aisle df's to product df. \n",
    "prod_aisles = pd.merge(products, aisles, on = 'aisle_id')\n",
    "df2 = pd.merge(prod_aisles, departments, on = 'department_id')\n",
    "df2.head(2)"
   ]
  },
  {
   "cell_type": "code",
   "execution_count": 47,
   "metadata": {},
   "outputs": [
    {
     "data": {
      "text/html": [
       "<div>\n",
       "<style scoped>\n",
       "    .dataframe tbody tr th:only-of-type {\n",
       "        vertical-align: middle;\n",
       "    }\n",
       "\n",
       "    .dataframe tbody tr th {\n",
       "        vertical-align: top;\n",
       "    }\n",
       "\n",
       "    .dataframe thead th {\n",
       "        text-align: right;\n",
       "    }\n",
       "</style>\n",
       "<table border=\"1\" class=\"dataframe\">\n",
       "  <thead>\n",
       "    <tr style=\"text-align: right;\">\n",
       "      <th></th>\n",
       "      <th>order_id</th>\n",
       "      <th>product_id</th>\n",
       "      <th>add_to_cart_order</th>\n",
       "      <th>reordered</th>\n",
       "      <th>user_id</th>\n",
       "      <th>order_number</th>\n",
       "      <th>order_dow</th>\n",
       "      <th>order_hour_of_day</th>\n",
       "      <th>days_since_prior_order</th>\n",
       "      <th>product_name</th>\n",
       "      <th>aisle_id</th>\n",
       "      <th>department_id</th>\n",
       "      <th>aisle</th>\n",
       "      <th>department</th>\n",
       "    </tr>\n",
       "  </thead>\n",
       "  <tbody>\n",
       "    <tr>\n",
       "      <th>0</th>\n",
       "      <td>2</td>\n",
       "      <td>33120</td>\n",
       "      <td>1</td>\n",
       "      <td>1</td>\n",
       "      <td>202279</td>\n",
       "      <td>3</td>\n",
       "      <td>5</td>\n",
       "      <td>9</td>\n",
       "      <td>8.0</td>\n",
       "      <td>Organic Egg Whites</td>\n",
       "      <td>86</td>\n",
       "      <td>16</td>\n",
       "      <td>eggs</td>\n",
       "      <td>dairy eggs</td>\n",
       "    </tr>\n",
       "    <tr>\n",
       "      <th>1</th>\n",
       "      <td>26</td>\n",
       "      <td>33120</td>\n",
       "      <td>5</td>\n",
       "      <td>0</td>\n",
       "      <td>153404</td>\n",
       "      <td>2</td>\n",
       "      <td>0</td>\n",
       "      <td>16</td>\n",
       "      <td>7.0</td>\n",
       "      <td>Organic Egg Whites</td>\n",
       "      <td>86</td>\n",
       "      <td>16</td>\n",
       "      <td>eggs</td>\n",
       "      <td>dairy eggs</td>\n",
       "    </tr>\n",
       "  </tbody>\n",
       "</table>\n",
       "</div>"
      ],
      "text/plain": [
       "   order_id  product_id  add_to_cart_order  reordered  user_id  order_number  \\\n",
       "0         2       33120                  1          1   202279             3   \n",
       "1        26       33120                  5          0   153404             2   \n",
       "\n",
       "   order_dow  order_hour_of_day  days_since_prior_order        product_name  \\\n",
       "0          5                  9                     8.0  Organic Egg Whites   \n",
       "1          0                 16                     7.0  Organic Egg Whites   \n",
       "\n",
       "   aisle_id  department_id aisle  department  \n",
       "0        86             16  eggs  dairy eggs  \n",
       "1        86             16  eggs  dairy eggs  "
      ]
     },
     "execution_count": 47,
     "metadata": {},
     "output_type": "execute_result"
    }
   ],
   "source": [
    "#Combining df1 anf df2\n",
    "combined_df = pd.merge(df1, df2, on = 'product_id').reset_index(drop=True)\n",
    "combined_df.head(2)"
   ]
  },
  {
   "cell_type": "code",
   "execution_count": 48,
   "metadata": {},
   "outputs": [
    {
     "data": {
      "text/plain": [
       "<matplotlib.axes._subplots.AxesSubplot at 0x22ced717d30>"
      ]
     },
     "execution_count": 48,
     "metadata": {},
     "output_type": "execute_result"
    },
    {
     "data": {
      "image/png": "[encoded data removed]",
      "text/plain": [
       "<Figure size 864x288 with 2 Axes>"
      ]
     },
     "metadata": {},
     "output_type": "display_data"
    }
   ],
   "source": [
    "#Check Nulls\n",
    "sb.heatmap(combined_df.isnull(), cbar=True)"
   ]
  },
  {
   "cell_type": "code",
   "execution_count": 49,
   "metadata": {},
   "outputs": [
    {
     "data": {
      "text/html": [
       "<div>\n",
       "<style scoped>\n",
       "    .dataframe tbody tr th:only-of-type {\n",
       "        vertical-align: middle;\n",
       "    }\n",
       "\n",
       "    .dataframe tbody tr th {\n",
       "        vertical-align: top;\n",
       "    }\n",
       "\n",
       "    .dataframe thead th {\n",
       "        text-align: right;\n",
       "    }\n",
       "</style>\n",
       "<table border=\"1\" class=\"dataframe\">\n",
       "  <thead>\n",
       "    <tr style=\"text-align: right;\">\n",
       "      <th></th>\n",
       "      <th>order_id</th>\n",
       "      <th>product_id</th>\n",
       "      <th>add_to_cart_order</th>\n",
       "      <th>reordered</th>\n",
       "      <th>user_id</th>\n",
       "      <th>order_number</th>\n",
       "      <th>order_dow</th>\n",
       "      <th>order_hour_of_day</th>\n",
       "      <th>days_since_prior_order</th>\n",
       "      <th>product_name</th>\n",
       "      <th>aisle_id</th>\n",
       "      <th>department_id</th>\n",
       "      <th>aisle</th>\n",
       "      <th>department</th>\n",
       "    </tr>\n",
       "  </thead>\n",
       "  <tbody>\n",
       "    <tr>\n",
       "      <th>39</th>\n",
       "      <td>5733</td>\n",
       "      <td>33120</td>\n",
       "      <td>8</td>\n",
       "      <td>0</td>\n",
       "      <td>92179</td>\n",
       "      <td>1</td>\n",
       "      <td>6</td>\n",
       "      <td>10</td>\n",
       "      <td>NaN</td>\n",
       "      <td>Organic Egg Whites</td>\n",
       "      <td>86</td>\n",
       "      <td>16</td>\n",
       "      <td>eggs</td>\n",
       "      <td>dairy eggs</td>\n",
       "    </tr>\n",
       "    <tr>\n",
       "      <th>53</th>\n",
       "      <td>8762</td>\n",
       "      <td>33120</td>\n",
       "      <td>4</td>\n",
       "      <td>0</td>\n",
       "      <td>68183</td>\n",
       "      <td>1</td>\n",
       "      <td>3</td>\n",
       "      <td>8</td>\n",
       "      <td>NaN</td>\n",
       "      <td>Organic Egg Whites</td>\n",
       "      <td>86</td>\n",
       "      <td>16</td>\n",
       "      <td>eggs</td>\n",
       "      <td>dairy eggs</td>\n",
       "    </tr>\n",
       "  </tbody>\n",
       "</table>\n",
       "</div>"
      ],
      "text/plain": [
       "    order_id  product_id  add_to_cart_order  reordered  user_id  order_number  \\\n",
       "39      5733       33120                  8          0    92179             1   \n",
       "53      8762       33120                  4          0    68183             1   \n",
       "\n",
       "    order_dow  order_hour_of_day  days_since_prior_order        product_name  \\\n",
       "39          6                 10                     NaN  Organic Egg Whites   \n",
       "53          3                  8                     NaN  Organic Egg Whites   \n",
       "\n",
       "    aisle_id  department_id aisle  department  \n",
       "39        86             16  eggs  dairy eggs  \n",
       "53        86             16  eggs  dairy eggs  "
      ]
     },
     "execution_count": 49,
     "metadata": {},
     "output_type": "execute_result"
    }
   ],
   "source": [
    "#These are null values in the feature 'days_since_prior_order'\n",
    "combined_df[combined_df['days_since_prior_order'].isnull()].head(2)\n",
    "\n",
    "#To be dealt with later, as this does not influence the current scope of work."
   ]
  },
  {
   "cell_type": "code",
   "execution_count": 50,
   "metadata": {},
   "outputs": [
    {
     "data": {
      "text/html": [
       "<div>\n",
       "<style scoped>\n",
       "    .dataframe tbody tr th:only-of-type {\n",
       "        vertical-align: middle;\n",
       "    }\n",
       "\n",
       "    .dataframe tbody tr th {\n",
       "        vertical-align: top;\n",
       "    }\n",
       "\n",
       "    .dataframe thead th {\n",
       "        text-align: right;\n",
       "    }\n",
       "</style>\n",
       "<table border=\"1\" class=\"dataframe\">\n",
       "  <thead>\n",
       "    <tr style=\"text-align: right;\">\n",
       "      <th></th>\n",
       "      <th>product_id</th>\n",
       "    </tr>\n",
       "    <tr>\n",
       "      <th>user_id</th>\n",
       "      <th></th>\n",
       "    </tr>\n",
       "  </thead>\n",
       "  <tbody>\n",
       "    <tr>\n",
       "      <th>142131</th>\n",
       "      <td>176</td>\n",
       "    </tr>\n",
       "    <tr>\n",
       "      <th>169550</th>\n",
       "      <td>161</td>\n",
       "    </tr>\n",
       "  </tbody>\n",
       "</table>\n",
       "</div>"
      ],
      "text/plain": [
       "         product_id\n",
       "user_id            \n",
       "142131          176\n",
       "169550          161"
      ]
     },
     "execution_count": 50,
     "metadata": {},
     "output_type": "execute_result"
    }
   ],
   "source": [
    "#Most ordering customer. Favourite Customer?\n",
    "pd.DataFrame(combined_df.groupby('user_id')['product_id'].count()).sort_values('product_id', ascending=False).head(2)"
   ]
  },
  {
   "cell_type": "code",
   "execution_count": 51,
   "metadata": {},
   "outputs": [
    {
     "data": {
      "text/html": [
       "<div>\n",
       "<style scoped>\n",
       "    .dataframe tbody tr th:only-of-type {\n",
       "        vertical-align: middle;\n",
       "    }\n",
       "\n",
       "    .dataframe tbody tr th {\n",
       "        vertical-align: top;\n",
       "    }\n",
       "\n",
       "    .dataframe thead th {\n",
       "        text-align: right;\n",
       "    }\n",
       "</style>\n",
       "<table border=\"1\" class=\"dataframe\">\n",
       "  <thead>\n",
       "    <tr style=\"text-align: right;\">\n",
       "      <th></th>\n",
       "      <th>aisle</th>\n",
       "    </tr>\n",
       "  </thead>\n",
       "  <tbody>\n",
       "    <tr>\n",
       "      <th>fresh fruits</th>\n",
       "      <td>56326</td>\n",
       "    </tr>\n",
       "    <tr>\n",
       "      <th>fresh vegetables</th>\n",
       "      <td>52073</td>\n",
       "    </tr>\n",
       "    <tr>\n",
       "      <th>packaged vegetables fruits</th>\n",
       "      <td>27347</td>\n",
       "    </tr>\n",
       "    <tr>\n",
       "      <th>yogurt</th>\n",
       "      <td>22485</td>\n",
       "    </tr>\n",
       "    <tr>\n",
       "      <th>packaged cheese</th>\n",
       "      <td>14960</td>\n",
       "    </tr>\n",
       "  </tbody>\n",
       "</table>\n",
       "</div>"
      ],
      "text/plain": [
       "                            aisle\n",
       "fresh fruits                56326\n",
       "fresh vegetables            52073\n",
       "packaged vegetables fruits  27347\n",
       "yogurt                      22485\n",
       "packaged cheese             14960"
      ]
     },
     "execution_count": 51,
     "metadata": {},
     "output_type": "execute_result"
    }
   ],
   "source": [
    "#Most sold items as per aisle.\n",
    "pd.DataFrame(combined_df['aisle'].value_counts()).head(5)"
   ]
  },
  {
   "cell_type": "code",
   "execution_count": 52,
   "metadata": {},
   "outputs": [
    {
     "data": {
      "text/plain": [
       "(500000, 14)"
      ]
     },
     "execution_count": 52,
     "metadata": {},
     "output_type": "execute_result"
    }
   ],
   "source": [
    "combined_df.shape"
   ]
  },
  {
   "cell_type": "code",
   "execution_count": 53,
   "metadata": {},
   "outputs": [
    {
     "data": {
      "text/html": [
       "<div>\n",
       "<style scoped>\n",
       "    .dataframe tbody tr th:only-of-type {\n",
       "        vertical-align: middle;\n",
       "    }\n",
       "\n",
       "    .dataframe tbody tr th {\n",
       "        vertical-align: top;\n",
       "    }\n",
       "\n",
       "    .dataframe thead th {\n",
       "        text-align: right;\n",
       "    }\n",
       "</style>\n",
       "<table border=\"1\" class=\"dataframe\">\n",
       "  <thead>\n",
       "    <tr style=\"text-align: right;\">\n",
       "      <th>aisle</th>\n",
       "      <th>air fresheners candles</th>\n",
       "      <th>asian foods</th>\n",
       "      <th>baby accessories</th>\n",
       "      <th>baby bath body care</th>\n",
       "      <th>baby food formula</th>\n",
       "      <th>bakery desserts</th>\n",
       "      <th>baking ingredients</th>\n",
       "      <th>baking supplies decor</th>\n",
       "      <th>beauty</th>\n",
       "      <th>beers coolers</th>\n",
       "      <th>...</th>\n",
       "      <th>spreads</th>\n",
       "      <th>tea</th>\n",
       "      <th>tofu meat alternatives</th>\n",
       "      <th>tortillas flat bread</th>\n",
       "      <th>trail mix snack mix</th>\n",
       "      <th>trash bags liners</th>\n",
       "      <th>vitamins supplements</th>\n",
       "      <th>water seltzer sparkling water</th>\n",
       "      <th>white wines</th>\n",
       "      <th>yogurt</th>\n",
       "    </tr>\n",
       "    <tr>\n",
       "      <th>user_id</th>\n",
       "      <th></th>\n",
       "      <th></th>\n",
       "      <th></th>\n",
       "      <th></th>\n",
       "      <th></th>\n",
       "      <th></th>\n",
       "      <th></th>\n",
       "      <th></th>\n",
       "      <th></th>\n",
       "      <th></th>\n",
       "      <th></th>\n",
       "      <th></th>\n",
       "      <th></th>\n",
       "      <th></th>\n",
       "      <th></th>\n",
       "      <th></th>\n",
       "      <th></th>\n",
       "      <th></th>\n",
       "      <th></th>\n",
       "      <th></th>\n",
       "      <th></th>\n",
       "    </tr>\n",
       "  </thead>\n",
       "  <tbody>\n",
       "    <tr>\n",
       "      <th>7</th>\n",
       "      <td>0</td>\n",
       "      <td>0</td>\n",
       "      <td>0</td>\n",
       "      <td>0</td>\n",
       "      <td>0</td>\n",
       "      <td>0</td>\n",
       "      <td>0</td>\n",
       "      <td>0</td>\n",
       "      <td>0</td>\n",
       "      <td>0</td>\n",
       "      <td>...</td>\n",
       "      <td>0</td>\n",
       "      <td>0</td>\n",
       "      <td>0</td>\n",
       "      <td>0</td>\n",
       "      <td>0</td>\n",
       "      <td>0</td>\n",
       "      <td>0</td>\n",
       "      <td>0</td>\n",
       "      <td>0</td>\n",
       "      <td>0</td>\n",
       "    </tr>\n",
       "    <tr>\n",
       "      <th>13</th>\n",
       "      <td>0</td>\n",
       "      <td>0</td>\n",
       "      <td>0</td>\n",
       "      <td>0</td>\n",
       "      <td>0</td>\n",
       "      <td>0</td>\n",
       "      <td>1</td>\n",
       "      <td>0</td>\n",
       "      <td>0</td>\n",
       "      <td>0</td>\n",
       "      <td>...</td>\n",
       "      <td>0</td>\n",
       "      <td>0</td>\n",
       "      <td>0</td>\n",
       "      <td>1</td>\n",
       "      <td>0</td>\n",
       "      <td>0</td>\n",
       "      <td>0</td>\n",
       "      <td>0</td>\n",
       "      <td>0</td>\n",
       "      <td>0</td>\n",
       "    </tr>\n",
       "  </tbody>\n",
       "</table>\n",
       "<p>2 rows × 134 columns</p>\n",
       "</div>"
      ],
      "text/plain": [
       "aisle    air fresheners candles  asian foods  baby accessories  \\\n",
       "user_id                                                          \n",
       "7                             0            0                 0   \n",
       "13                            0            0                 0   \n",
       "\n",
       "aisle    baby bath body care  baby food formula  bakery desserts  \\\n",
       "user_id                                                            \n",
       "7                          0                  0                0   \n",
       "13                         0                  0                0   \n",
       "\n",
       "aisle    baking ingredients  baking supplies decor  beauty  beers coolers  \\\n",
       "user_id                                                                     \n",
       "7                         0                      0       0              0   \n",
       "13                        1                      0       0              0   \n",
       "\n",
       "aisle    ...  spreads  tea  tofu meat alternatives  tortillas flat bread  \\\n",
       "user_id  ...                                                               \n",
       "7        ...        0    0                       0                     0   \n",
       "13       ...        0    0                       0                     1   \n",
       "\n",
       "aisle    trail mix snack mix  trash bags liners  vitamins supplements  \\\n",
       "user_id                                                                 \n",
       "7                          0                  0                     0   \n",
       "13                         0                  0                     0   \n",
       "\n",
       "aisle    water seltzer sparkling water  white wines  yogurt  \n",
       "user_id                                                      \n",
       "7                                    0            0       0  \n",
       "13                                   0            0       0  \n",
       "\n",
       "[2 rows x 134 columns]"
      ]
     },
     "execution_count": 53,
     "metadata": {},
     "output_type": "execute_result"
    }
   ],
   "source": [
    "#Using aisles and user_id. This shows the users that purchased items from which aisle.\n",
    "user_by_aisle_df = pd.crosstab(combined_df['user_id'], combined_df['aisle'])\n",
    "user_by_aisle_df.head(2)"
   ]
  },
  {
   "cell_type": "code",
   "execution_count": 54,
   "metadata": {},
   "outputs": [
    {
     "data": {
      "text/plain": [
       "(39834, 134)"
      ]
     },
     "execution_count": 54,
     "metadata": {},
     "output_type": "execute_result"
    }
   ],
   "source": [
    "#The final dataframe has about 134 features.\n",
    "user_by_aisle_df.shape"
   ]
  },
  {
   "cell_type": "code",
   "execution_count": 55,
   "metadata": {},
   "outputs": [
    {
     "data": {
      "text/html": [
       "<div>\n",
       "<style scoped>\n",
       "    .dataframe tbody tr th:only-of-type {\n",
       "        vertical-align: middle;\n",
       "    }\n",
       "\n",
       "    .dataframe tbody tr th {\n",
       "        vertical-align: top;\n",
       "    }\n",
       "\n",
       "    .dataframe thead th {\n",
       "        text-align: right;\n",
       "    }\n",
       "</style>\n",
       "<table border=\"1\" class=\"dataframe\">\n",
       "  <thead>\n",
       "    <tr style=\"text-align: right;\">\n",
       "      <th>aisle</th>\n",
       "      <th>air fresheners candles</th>\n",
       "      <th>asian foods</th>\n",
       "      <th>baby accessories</th>\n",
       "      <th>baby bath body care</th>\n",
       "      <th>baby food formula</th>\n",
       "      <th>bakery desserts</th>\n",
       "      <th>baking ingredients</th>\n",
       "      <th>baking supplies decor</th>\n",
       "      <th>beauty</th>\n",
       "      <th>beers coolers</th>\n",
       "      <th>...</th>\n",
       "      <th>spreads</th>\n",
       "      <th>tea</th>\n",
       "      <th>tofu meat alternatives</th>\n",
       "      <th>tortillas flat bread</th>\n",
       "      <th>trail mix snack mix</th>\n",
       "      <th>trash bags liners</th>\n",
       "      <th>vitamins supplements</th>\n",
       "      <th>water seltzer sparkling water</th>\n",
       "      <th>white wines</th>\n",
       "      <th>yogurt</th>\n",
       "    </tr>\n",
       "  </thead>\n",
       "  <tbody>\n",
       "    <tr>\n",
       "      <th>count</th>\n",
       "      <td>39834.000000</td>\n",
       "      <td>39834.000000</td>\n",
       "      <td>39834.000000</td>\n",
       "      <td>39834.000000</td>\n",
       "      <td>39834.000000</td>\n",
       "      <td>39834.000000</td>\n",
       "      <td>39834.000000</td>\n",
       "      <td>39834.000000</td>\n",
       "      <td>39834.000000</td>\n",
       "      <td>39834.000000</td>\n",
       "      <td>...</td>\n",
       "      <td>39834.000000</td>\n",
       "      <td>39834.000000</td>\n",
       "      <td>39834.000000</td>\n",
       "      <td>39834.000000</td>\n",
       "      <td>39834.000000</td>\n",
       "      <td>39834.000000</td>\n",
       "      <td>39834.000000</td>\n",
       "      <td>39834.000000</td>\n",
       "      <td>39834.000000</td>\n",
       "      <td>39834.000000</td>\n",
       "    </tr>\n",
       "    <tr>\n",
       "      <th>mean</th>\n",
       "      <td>0.007004</td>\n",
       "      <td>0.067355</td>\n",
       "      <td>0.003113</td>\n",
       "      <td>0.002887</td>\n",
       "      <td>0.149746</td>\n",
       "      <td>0.013632</td>\n",
       "      <td>0.121454</td>\n",
       "      <td>0.008410</td>\n",
       "      <td>0.002109</td>\n",
       "      <td>0.019406</td>\n",
       "      <td>...</td>\n",
       "      <td>0.113320</td>\n",
       "      <td>0.098986</td>\n",
       "      <td>0.051213</td>\n",
       "      <td>0.072526</td>\n",
       "      <td>0.013782</td>\n",
       "      <td>0.013305</td>\n",
       "      <td>0.018000</td>\n",
       "      <td>0.320781</td>\n",
       "      <td>0.011322</td>\n",
       "      <td>0.564468</td>\n",
       "    </tr>\n",
       "    <tr>\n",
       "      <th>std</th>\n",
       "      <td>0.102322</td>\n",
       "      <td>0.322399</td>\n",
       "      <td>0.059625</td>\n",
       "      <td>0.057711</td>\n",
       "      <td>0.914706</td>\n",
       "      <td>0.125322</td>\n",
       "      <td>0.458353</td>\n",
       "      <td>0.111384</td>\n",
       "      <td>0.050060</td>\n",
       "      <td>0.248107</td>\n",
       "      <td>...</td>\n",
       "      <td>0.392178</td>\n",
       "      <td>0.517674</td>\n",
       "      <td>0.294278</td>\n",
       "      <td>0.295638</td>\n",
       "      <td>0.131369</td>\n",
       "      <td>0.124048</td>\n",
       "      <td>0.154928</td>\n",
       "      <td>0.801316</td>\n",
       "      <td>0.130455</td>\n",
       "      <td>1.314491</td>\n",
       "    </tr>\n",
       "    <tr>\n",
       "      <th>min</th>\n",
       "      <td>0.000000</td>\n",
       "      <td>0.000000</td>\n",
       "      <td>0.000000</td>\n",
       "      <td>0.000000</td>\n",
       "      <td>0.000000</td>\n",
       "      <td>0.000000</td>\n",
       "      <td>0.000000</td>\n",
       "      <td>0.000000</td>\n",
       "      <td>0.000000</td>\n",
       "      <td>0.000000</td>\n",
       "      <td>...</td>\n",
       "      <td>0.000000</td>\n",
       "      <td>0.000000</td>\n",
       "      <td>0.000000</td>\n",
       "      <td>0.000000</td>\n",
       "      <td>0.000000</td>\n",
       "      <td>0.000000</td>\n",
       "      <td>0.000000</td>\n",
       "      <td>0.000000</td>\n",
       "      <td>0.000000</td>\n",
       "      <td>0.000000</td>\n",
       "    </tr>\n",
       "    <tr>\n",
       "      <th>25%</th>\n",
       "      <td>0.000000</td>\n",
       "      <td>0.000000</td>\n",
       "      <td>0.000000</td>\n",
       "      <td>0.000000</td>\n",
       "      <td>0.000000</td>\n",
       "      <td>0.000000</td>\n",
       "      <td>0.000000</td>\n",
       "      <td>0.000000</td>\n",
       "      <td>0.000000</td>\n",
       "      <td>0.000000</td>\n",
       "      <td>...</td>\n",
       "      <td>0.000000</td>\n",
       "      <td>0.000000</td>\n",
       "      <td>0.000000</td>\n",
       "      <td>0.000000</td>\n",
       "      <td>0.000000</td>\n",
       "      <td>0.000000</td>\n",
       "      <td>0.000000</td>\n",
       "      <td>0.000000</td>\n",
       "      <td>0.000000</td>\n",
       "      <td>0.000000</td>\n",
       "    </tr>\n",
       "    <tr>\n",
       "      <th>50%</th>\n",
       "      <td>0.000000</td>\n",
       "      <td>0.000000</td>\n",
       "      <td>0.000000</td>\n",
       "      <td>0.000000</td>\n",
       "      <td>0.000000</td>\n",
       "      <td>0.000000</td>\n",
       "      <td>0.000000</td>\n",
       "      <td>0.000000</td>\n",
       "      <td>0.000000</td>\n",
       "      <td>0.000000</td>\n",
       "      <td>...</td>\n",
       "      <td>0.000000</td>\n",
       "      <td>0.000000</td>\n",
       "      <td>0.000000</td>\n",
       "      <td>0.000000</td>\n",
       "      <td>0.000000</td>\n",
       "      <td>0.000000</td>\n",
       "      <td>0.000000</td>\n",
       "      <td>0.000000</td>\n",
       "      <td>0.000000</td>\n",
       "      <td>0.000000</td>\n",
       "    </tr>\n",
       "    <tr>\n",
       "      <th>75%</th>\n",
       "      <td>0.000000</td>\n",
       "      <td>0.000000</td>\n",
       "      <td>0.000000</td>\n",
       "      <td>0.000000</td>\n",
       "      <td>0.000000</td>\n",
       "      <td>0.000000</td>\n",
       "      <td>0.000000</td>\n",
       "      <td>0.000000</td>\n",
       "      <td>0.000000</td>\n",
       "      <td>0.000000</td>\n",
       "      <td>...</td>\n",
       "      <td>0.000000</td>\n",
       "      <td>0.000000</td>\n",
       "      <td>0.000000</td>\n",
       "      <td>0.000000</td>\n",
       "      <td>0.000000</td>\n",
       "      <td>0.000000</td>\n",
       "      <td>0.000000</td>\n",
       "      <td>0.000000</td>\n",
       "      <td>0.000000</td>\n",
       "      <td>1.000000</td>\n",
       "    </tr>\n",
       "    <tr>\n",
       "      <th>max</th>\n",
       "      <td>6.000000</td>\n",
       "      <td>9.000000</td>\n",
       "      <td>4.000000</td>\n",
       "      <td>3.000000</td>\n",
       "      <td>36.000000</td>\n",
       "      <td>3.000000</td>\n",
       "      <td>9.000000</td>\n",
       "      <td>7.000000</td>\n",
       "      <td>2.000000</td>\n",
       "      <td>11.000000</td>\n",
       "      <td>...</td>\n",
       "      <td>7.000000</td>\n",
       "      <td>22.000000</td>\n",
       "      <td>9.000000</td>\n",
       "      <td>6.000000</td>\n",
       "      <td>6.000000</td>\n",
       "      <td>3.000000</td>\n",
       "      <td>6.000000</td>\n",
       "      <td>20.000000</td>\n",
       "      <td>4.000000</td>\n",
       "      <td>47.000000</td>\n",
       "    </tr>\n",
       "  </tbody>\n",
       "</table>\n",
       "<p>8 rows × 134 columns</p>\n",
       "</div>"
      ],
      "text/plain": [
       "aisle  air fresheners candles   asian foods  baby accessories  \\\n",
       "count            39834.000000  39834.000000      39834.000000   \n",
       "mean                 0.007004      0.067355          0.003113   \n",
       "std                  0.102322      0.322399          0.059625   \n",
       "min                  0.000000      0.000000          0.000000   \n",
       "25%                  0.000000      0.000000          0.000000   \n",
       "50%                  0.000000      0.000000          0.000000   \n",
       "75%                  0.000000      0.000000          0.000000   \n",
       "max                  6.000000      9.000000          4.000000   \n",
       "\n",
       "aisle  baby bath body care  baby food formula  bakery desserts  \\\n",
       "count         39834.000000       39834.000000     39834.000000   \n",
       "mean              0.002887           0.149746         0.013632   \n",
       "std               0.057711           0.914706         0.125322   \n",
       "min               0.000000           0.000000         0.000000   \n",
       "25%               0.000000           0.000000         0.000000   \n",
       "50%               0.000000           0.000000         0.000000   \n",
       "75%               0.000000           0.000000         0.000000   \n",
       "max               3.000000          36.000000         3.000000   \n",
       "\n",
       "aisle  baking ingredients  baking supplies decor        beauty  beers coolers  \\\n",
       "count        39834.000000           39834.000000  39834.000000   39834.000000   \n",
       "mean             0.121454               0.008410      0.002109       0.019406   \n",
       "std              0.458353               0.111384      0.050060       0.248107   \n",
       "min              0.000000               0.000000      0.000000       0.000000   \n",
       "25%              0.000000               0.000000      0.000000       0.000000   \n",
       "50%              0.000000               0.000000      0.000000       0.000000   \n",
       "75%              0.000000               0.000000      0.000000       0.000000   \n",
       "max              9.000000               7.000000      2.000000      11.000000   \n",
       "\n",
       "aisle  ...       spreads           tea  tofu meat alternatives  \\\n",
       "count  ...  39834.000000  39834.000000            39834.000000   \n",
       "mean   ...      0.113320      0.098986                0.051213   \n",
       "std    ...      0.392178      0.517674                0.294278   \n",
       "min    ...      0.000000      0.000000                0.000000   \n",
       "25%    ...      0.000000      0.000000                0.000000   \n",
       "50%    ...      0.000000      0.000000                0.000000   \n",
       "75%    ...      0.000000      0.000000                0.000000   \n",
       "max    ...      7.000000     22.000000                9.000000   \n",
       "\n",
       "aisle  tortillas flat bread  trail mix snack mix  trash bags liners  \\\n",
       "count          39834.000000         39834.000000       39834.000000   \n",
       "mean               0.072526             0.013782           0.013305   \n",
       "std                0.295638             0.131369           0.124048   \n",
       "min                0.000000             0.000000           0.000000   \n",
       "25%                0.000000             0.000000           0.000000   \n",
       "50%                0.000000             0.000000           0.000000   \n",
       "75%                0.000000             0.000000           0.000000   \n",
       "max                6.000000             6.000000           3.000000   \n",
       "\n",
       "aisle  vitamins supplements  water seltzer sparkling water   white wines  \\\n",
       "count          39834.000000                   39834.000000  39834.000000   \n",
       "mean               0.018000                       0.320781      0.011322   \n",
       "std                0.154928                       0.801316      0.130455   \n",
       "min                0.000000                       0.000000      0.000000   \n",
       "25%                0.000000                       0.000000      0.000000   \n",
       "50%                0.000000                       0.000000      0.000000   \n",
       "75%                0.000000                       0.000000      0.000000   \n",
       "max                6.000000                      20.000000      4.000000   \n",
       "\n",
       "aisle        yogurt  \n",
       "count  39834.000000  \n",
       "mean       0.564468  \n",
       "std        1.314491  \n",
       "min        0.000000  \n",
       "25%        0.000000  \n",
       "50%        0.000000  \n",
       "75%        1.000000  \n",
       "max       47.000000  \n",
       "\n",
       "[8 rows x 134 columns]"
      ]
     },
     "execution_count": 55,
     "metadata": {},
     "output_type": "execute_result"
    }
   ],
   "source": [
    "#Standardization is not needed in this case.\n",
    "user_by_aisle_df.describe() #this confirms that the values dont need to be standardized since they're all 'quantity'."
   ]
  },
  {
   "cell_type": "code",
   "execution_count": 56,
   "metadata": {},
   "outputs": [],
   "source": [
    "#Taking array of 'user_by_aisle_df'. To use for elbow method.\n",
    "X = user_by_aisle_df.values"
   ]
  },
  {
   "cell_type": "code",
   "execution_count": 57,
   "metadata": {},
   "outputs": [
    {
     "data": {
      "text/html": [
       "<div>\n",
       "<style scoped>\n",
       "    .dataframe tbody tr th:only-of-type {\n",
       "        vertical-align: middle;\n",
       "    }\n",
       "\n",
       "    .dataframe tbody tr th {\n",
       "        vertical-align: top;\n",
       "    }\n",
       "\n",
       "    .dataframe thead th {\n",
       "        text-align: right;\n",
       "    }\n",
       "</style>\n",
       "<table border=\"1\" class=\"dataframe\">\n",
       "  <thead>\n",
       "    <tr style=\"text-align: right;\">\n",
       "      <th>aisle</th>\n",
       "      <th>air fresheners candles</th>\n",
       "      <th>asian foods</th>\n",
       "      <th>baby accessories</th>\n",
       "      <th>baby bath body care</th>\n",
       "      <th>baby food formula</th>\n",
       "      <th>bakery desserts</th>\n",
       "      <th>baking ingredients</th>\n",
       "      <th>baking supplies decor</th>\n",
       "      <th>beauty</th>\n",
       "      <th>beers coolers</th>\n",
       "      <th>...</th>\n",
       "      <th>spreads</th>\n",
       "      <th>tea</th>\n",
       "      <th>tofu meat alternatives</th>\n",
       "      <th>tortillas flat bread</th>\n",
       "      <th>trail mix snack mix</th>\n",
       "      <th>trash bags liners</th>\n",
       "      <th>vitamins supplements</th>\n",
       "      <th>water seltzer sparkling water</th>\n",
       "      <th>white wines</th>\n",
       "      <th>yogurt</th>\n",
       "    </tr>\n",
       "    <tr>\n",
       "      <th>user_id</th>\n",
       "      <th></th>\n",
       "      <th></th>\n",
       "      <th></th>\n",
       "      <th></th>\n",
       "      <th></th>\n",
       "      <th></th>\n",
       "      <th></th>\n",
       "      <th></th>\n",
       "      <th></th>\n",
       "      <th></th>\n",
       "      <th></th>\n",
       "      <th></th>\n",
       "      <th></th>\n",
       "      <th></th>\n",
       "      <th></th>\n",
       "      <th></th>\n",
       "      <th></th>\n",
       "      <th></th>\n",
       "      <th></th>\n",
       "      <th></th>\n",
       "      <th></th>\n",
       "    </tr>\n",
       "  </thead>\n",
       "  <tbody>\n",
       "    <tr>\n",
       "      <th>7</th>\n",
       "      <td>0</td>\n",
       "      <td>0</td>\n",
       "      <td>0</td>\n",
       "      <td>0</td>\n",
       "      <td>0</td>\n",
       "      <td>0</td>\n",
       "      <td>0</td>\n",
       "      <td>0</td>\n",
       "      <td>0</td>\n",
       "      <td>0</td>\n",
       "      <td>...</td>\n",
       "      <td>0</td>\n",
       "      <td>0</td>\n",
       "      <td>0</td>\n",
       "      <td>0</td>\n",
       "      <td>0</td>\n",
       "      <td>0</td>\n",
       "      <td>0</td>\n",
       "      <td>0</td>\n",
       "      <td>0</td>\n",
       "      <td>0</td>\n",
       "    </tr>\n",
       "    <tr>\n",
       "      <th>13</th>\n",
       "      <td>0</td>\n",
       "      <td>0</td>\n",
       "      <td>0</td>\n",
       "      <td>0</td>\n",
       "      <td>0</td>\n",
       "      <td>0</td>\n",
       "      <td>1</td>\n",
       "      <td>0</td>\n",
       "      <td>0</td>\n",
       "      <td>0</td>\n",
       "      <td>...</td>\n",
       "      <td>0</td>\n",
       "      <td>0</td>\n",
       "      <td>0</td>\n",
       "      <td>1</td>\n",
       "      <td>0</td>\n",
       "      <td>0</td>\n",
       "      <td>0</td>\n",
       "      <td>0</td>\n",
       "      <td>0</td>\n",
       "      <td>0</td>\n",
       "    </tr>\n",
       "    <tr>\n",
       "      <th>23</th>\n",
       "      <td>0</td>\n",
       "      <td>0</td>\n",
       "      <td>0</td>\n",
       "      <td>0</td>\n",
       "      <td>0</td>\n",
       "      <td>0</td>\n",
       "      <td>0</td>\n",
       "      <td>0</td>\n",
       "      <td>1</td>\n",
       "      <td>0</td>\n",
       "      <td>...</td>\n",
       "      <td>0</td>\n",
       "      <td>0</td>\n",
       "      <td>0</td>\n",
       "      <td>0</td>\n",
       "      <td>0</td>\n",
       "      <td>0</td>\n",
       "      <td>0</td>\n",
       "      <td>1</td>\n",
       "      <td>0</td>\n",
       "      <td>4</td>\n",
       "    </tr>\n",
       "    <tr>\n",
       "      <th>27</th>\n",
       "      <td>0</td>\n",
       "      <td>0</td>\n",
       "      <td>0</td>\n",
       "      <td>0</td>\n",
       "      <td>0</td>\n",
       "      <td>0</td>\n",
       "      <td>0</td>\n",
       "      <td>0</td>\n",
       "      <td>0</td>\n",
       "      <td>0</td>\n",
       "      <td>...</td>\n",
       "      <td>0</td>\n",
       "      <td>0</td>\n",
       "      <td>0</td>\n",
       "      <td>0</td>\n",
       "      <td>0</td>\n",
       "      <td>0</td>\n",
       "      <td>0</td>\n",
       "      <td>1</td>\n",
       "      <td>0</td>\n",
       "      <td>4</td>\n",
       "    </tr>\n",
       "    <tr>\n",
       "      <th>36</th>\n",
       "      <td>0</td>\n",
       "      <td>0</td>\n",
       "      <td>0</td>\n",
       "      <td>0</td>\n",
       "      <td>0</td>\n",
       "      <td>0</td>\n",
       "      <td>0</td>\n",
       "      <td>0</td>\n",
       "      <td>0</td>\n",
       "      <td>1</td>\n",
       "      <td>...</td>\n",
       "      <td>0</td>\n",
       "      <td>0</td>\n",
       "      <td>0</td>\n",
       "      <td>0</td>\n",
       "      <td>0</td>\n",
       "      <td>0</td>\n",
       "      <td>0</td>\n",
       "      <td>0</td>\n",
       "      <td>0</td>\n",
       "      <td>0</td>\n",
       "    </tr>\n",
       "  </tbody>\n",
       "</table>\n",
       "<p>5 rows × 134 columns</p>\n",
       "</div>"
      ],
      "text/plain": [
       "aisle    air fresheners candles  asian foods  baby accessories  \\\n",
       "user_id                                                          \n",
       "7                             0            0                 0   \n",
       "13                            0            0                 0   \n",
       "23                            0            0                 0   \n",
       "27                            0            0                 0   \n",
       "36                            0            0                 0   \n",
       "\n",
       "aisle    baby bath body care  baby food formula  bakery desserts  \\\n",
       "user_id                                                            \n",
       "7                          0                  0                0   \n",
       "13                         0                  0                0   \n",
       "23                         0                  0                0   \n",
       "27                         0                  0                0   \n",
       "36                         0                  0                0   \n",
       "\n",
       "aisle    baking ingredients  baking supplies decor  beauty  beers coolers  \\\n",
       "user_id                                                                     \n",
       "7                         0                      0       0              0   \n",
       "13                        1                      0       0              0   \n",
       "23                        0                      0       1              0   \n",
       "27                        0                      0       0              0   \n",
       "36                        0                      0       0              1   \n",
       "\n",
       "aisle    ...  spreads  tea  tofu meat alternatives  tortillas flat bread  \\\n",
       "user_id  ...                                                               \n",
       "7        ...        0    0                       0                     0   \n",
       "13       ...        0    0                       0                     1   \n",
       "23       ...        0    0                       0                     0   \n",
       "27       ...        0    0                       0                     0   \n",
       "36       ...        0    0                       0                     0   \n",
       "\n",
       "aisle    trail mix snack mix  trash bags liners  vitamins supplements  \\\n",
       "user_id                                                                 \n",
       "7                          0                  0                     0   \n",
       "13                         0                  0                     0   \n",
       "23                         0                  0                     0   \n",
       "27                         0                  0                     0   \n",
       "36                         0                  0                     0   \n",
       "\n",
       "aisle    water seltzer sparkling water  white wines  yogurt  \n",
       "user_id                                                      \n",
       "7                                    0            0       0  \n",
       "13                                   0            0       0  \n",
       "23                                   1            0       4  \n",
       "27                                   1            0       4  \n",
       "36                                   0            0       0  \n",
       "\n",
       "[5 rows x 134 columns]"
      ]
     },
     "execution_count": 57,
     "metadata": {},
     "output_type": "execute_result"
    }
   ],
   "source": [
    "user_by_aisle_df.head()"
   ]
  },
  {
   "cell_type": "code",
   "execution_count": 58,
   "metadata": {},
   "outputs": [
    {
     "data": {
      "image/png": "[encoded data removed]",
      "text/plain": [
       "<Figure size 864x288 with 1 Axes>"
      ]
     },
     "metadata": {},
     "output_type": "display_data"
    }
   ],
   "source": [
    "    #Implementing the Elbow method to identify the ideal value of 'k'. \n",
    "\n",
    "    ks = range(1,10) #hit and trial, let's try it 10 times.\n",
    "    inertias = []\n",
    "    for k in ks:\n",
    "        model = KMeans(n_clusters=k)    # Create a KMeans instance with k clusters: model\n",
    "        model.fit(X)                    # Fit model to samples\n",
    "        inertias.append(model.inertia_) # Append the inertia to the list of inertias\n",
    "\n",
    "    plt.plot(ks, inertias, '-o', color='black') #Plotting. The plot will give the 'elbow'.\n",
    "    plt.xlabel('number of clusters, k')\n",
    "    plt.ylabel('inertia')\n",
    "    plt.xticks(ks)\n",
    "    plt.show()"
   ]
  },
  {
   "cell_type": "code",
   "execution_count": 59,
   "metadata": {},
   "outputs": [],
   "source": [
    "#Seeing the above plot, the ideal value for cluster (k) should be between 5 and 6 - since the features beyond these values,\n",
    "# do not explain much of the variability in the dataset. \n",
    "\n",
    "#Decomposing the features into 6 using PCA (seeing the above plot, n_components = 6)\n",
    "pca = decomposition.PCA(n_components=6)\n",
    "pca_user_order = pca.fit_transform(X)\n",
    "\n",
    "#You can do hit and trial here to change the number of components and see how much variation in the data \n",
    "#is explained by the chose n_components."
   ]
  },
  {
   "cell_type": "code",
   "execution_count": 60,
   "metadata": {},
   "outputs": [
    {
     "data": {
      "text/plain": [
       "0.5179968603456072"
      ]
     },
     "execution_count": 60,
     "metadata": {},
     "output_type": "execute_result"
    }
   ],
   "source": [
    "#Checking the % variation explained by the 6 pca components.\n",
    "pca.explained_variance_ratio_.sum()\n",
    "#More than half (50%) of the variability in the data can be explained by just 6 components."
   ]
  },
  {
   "cell_type": "code",
   "execution_count": 61,
   "metadata": {},
   "outputs": [
    {
     "data": {
      "text/plain": [
       "Text(0, 0.5, 'variance %')"
      ]
     },
     "execution_count": 61,
     "metadata": {},
     "output_type": "execute_result"
    },
    {
     "data": {
      "image/png": "[encoded data removed]",
      "text/plain": [
       "<Figure size 864x288 with 1 Axes>"
      ]
     },
     "metadata": {},
     "output_type": "display_data"
    }
   ],
   "source": [
    "# Plot the explained variances to verify the variation.\n",
    "features = range(pca.n_components_)\n",
    "plt.bar(features, pca.explained_variance_ratio_, color='black')\n",
    "plt.xlabel('PCA features')\n",
    "plt.ylabel('variance %')\n",
    "\n",
    "#A majority of the variance can be explained by just five to six components. Anything beyond that does not capture much of the variation in the dataset."
   ]
  },
  {
   "cell_type": "markdown",
   "metadata": {},
   "source": [
    "# InstaCart Market Basket Analysis"
   ]
  },
  {
   "cell_type": "markdown",
   "metadata": {},
   "source": [
    "# Association Rule"
   ]
  },
  {
   "cell_type": "code",
   "execution_count": 62,
   "metadata": {},
   "outputs": [
    {
     "name": "stdout",
     "output_type": "stream",
     "text": [
      "order_id\n",
      "2    33120\n",
      "2    28985\n",
      "2     9327\n",
      "2    45918\n",
      "2    30035\n",
      "Name: item_id, dtype: int64\n",
      "The type of Orders:  <class 'pandas.core.series.Series'>\n"
     ]
    }
   ],
   "source": [
    "# Convert from DataFrame to a Series, with order_id as index and item_id as value\n",
    "orders_prod_prior = orders_prod_prior.set_index('order_id')['product_id'].rename('item_id')\n",
    "print(orders_prod_prior.head())\n",
    "print(\"The type of Orders: \",type(orders_prod_prior))"
   ]
  },
  {
   "cell_type": "code",
   "execution_count": 63,
   "metadata": {},
   "outputs": [],
   "source": [
    "## This function is used to return the frequency of the items and item pairs\n",
    "def frequency(iterable):\n",
    "    if type(iterable) == pd.core.series.Series:\n",
    "        return iterable.value_counts().rename(\"frequency\")\n",
    "    else: \n",
    "        return pd.Series(Counter(iterable)).rename(\"frequency\")\n",
    "    \n",
    "# Returns number of unique orders\n",
    "def order_count(order_item):\n",
    "    return len(set(order_item.index))\n",
    "\n",
    "# Returns generator that yields item pairs, one at a time\n",
    "def get_item_pairs(order_item):\n",
    "    order_item = order_item.reset_index().to_numpy()\n",
    "    for order_id, order_object in groupby(order_item, lambda x: x[0]):\n",
    "        item_list = [item[1] for item in order_object]\n",
    "              \n",
    "        for item_pair in combinations(item_list, 2):\n",
    "            yield item_pair\n",
    "\n",
    "# Returns frequency and support associated with item\n",
    "def merge_item_stats(item_pairs, item_stats):\n",
    "    return (item_pairs\n",
    "                .merge(item_stats.rename(columns={'frequency': 'frequencyA', 'support': 'supportA'}), left_on='item_A', right_index=True)\n",
    "                .merge(item_stats.rename(columns={'frequency': 'frequencyB', 'support': 'supportB'}), left_on='item_B', right_index=True))\n",
    "\n",
    "# Returns name associated with item\n",
    "def merge_item_name(rules, item_name):\n",
    "    columns = ['itemA','itemB','frequencyAB','supportAB','frequencyA','supportA','frequencyB','supportB', \n",
    "               'confidenceAtoB','confidenceBtoA','lift']\n",
    "    rules = (rules\n",
    "                .merge(item_name.rename(columns={'item_name': 'itemA'}), left_on='item_A', right_on='item_id')\n",
    "                .merge(item_name.rename(columns={'item_name': 'itemB'}), left_on='item_B', right_on='item_id'))\n",
    "    return rules[columns] "
   ]
  },
  {
   "cell_type": "code",
   "execution_count": 64,
   "metadata": {},
   "outputs": [],
   "source": [
    "def association_rules(order_item, min_support):\n",
    "\n",
    "    print(\"Starting order_item: {:22d}\".format(len(order_item)))\n",
    "\n",
    "    # Calculate item frequency and support\n",
    "    item_stats             = frequency(order_item).to_frame(\"frequency\")\n",
    "    item_stats['support']  = item_stats['frequency'] / order_count(order_item) * 100\n",
    "\n",
    "    # Filter from order_item items below min support \n",
    "    qualifying_items       = item_stats[item_stats['support'] >= min_support].index\n",
    "    order_item             = order_item[order_item.isin(qualifying_items)]\n",
    "\n",
    "    print(\"Items with support >= {}: {:15d}\".format(min_support, len(qualifying_items)))\n",
    "    print(\"Remaining order_item: {:21d}\".format(len(order_item)))\n",
    "\n",
    "    # Filter from order_item orders with less than 2 items\n",
    "    order_size             = frequency(order_item.index)\n",
    "    qualifying_orders      = order_size[order_size >= 2].index\n",
    "    order_item             = order_item[order_item.index.isin(qualifying_orders)]\n",
    "\n",
    "    print(\"Remaining orders with 2+ items: {:11d}\".format(len(qualifying_orders)))\n",
    "    print(\"Remaining order_item: {:21d}\".format(len(order_item)))\n",
    "\n",
    "    # Recalculate item frequency and support\n",
    "    item_stats             = frequency(order_item).to_frame(\"frequency\")\n",
    "    item_stats['support']  = item_stats['frequency'] / order_count(order_item) * 100\n",
    "\n",
    "    # Get item pairs generator\n",
    "    item_pair_gen          = get_item_pairs(order_item)\n",
    "\n",
    "    # Calculate item pair frequency and support\n",
    "    item_pairs              = frequency(item_pair_gen).to_frame(\"frequencyAB\")\n",
    "    item_pairs['supportAB'] = item_pairs['frequencyAB'] / len(qualifying_orders) * 100\n",
    "\n",
    "    print(\"Item pairs: {:31d}\".format(len(item_pairs)))\n",
    "\n",
    "    # Filter from item_pairs those below min support\n",
    "    item_pairs              = item_pairs[item_pairs['supportAB'] >= min_support]\n",
    "\n",
    "    print(\"Item pairs with support >= {}: {:10d}\\n\".format(min_support, len(item_pairs)))\n",
    "\n",
    "    # Create table of association rules and compute relevant metrics\n",
    "    item_pairs = item_pairs.reset_index().rename(columns={'level_0': 'item_A', 'level_1': 'item_B'})\n",
    "    item_pairs = merge_item_stats(item_pairs, item_stats)\n",
    "    \n",
    "    item_pairs['confidenceAtoB'] = item_pairs['supportAB'] / item_pairs['supportA']\n",
    "    item_pairs['confidenceBtoA'] = item_pairs['supportAB'] / item_pairs['supportB']\n",
    "    item_pairs['lift']           = item_pairs['supportAB'] / (item_pairs['supportA'] * item_pairs['supportB'])\n",
    "    \n",
    "    # Return association rules sorted by lift in descending order\n",
    "    return item_pairs.sort_values('lift', ascending=False)\n"
   ]
  },
  {
   "cell_type": "code",
   "execution_count": 65,
   "metadata": {},
   "outputs": [
    {
     "name": "stdout",
     "output_type": "stream",
     "text": [
      "Starting order_item:                 500000\n",
      "Items with support >= 0.01:           11789\n",
      "Remaining order_item:                467475\n",
      "Remaining orders with 2+ items:       46601\n",
      "Remaining order_item:                464698\n",
      "Item pairs:                         2160801\n",
      "Item pairs with support >= 0.01:      62406\n",
      "\n"
     ]
    }
   ],
   "source": [
    "#%%time\n",
    "rules = association_rules(orders_prod_prior, 0.01)  "
   ]
  },
  {
   "cell_type": "code",
   "execution_count": 66,
   "metadata": {},
   "outputs": [
    {
     "name": "stdout",
     "output_type": "stream",
     "text": [
      "The columns in the new dataset are:\n",
      " Index(['itemA', 'itemB', 'frequencyAB', 'supportAB', 'frequencyA', 'supportA',\n",
      "       'frequencyB', 'supportB', 'confidenceAtoB', 'confidenceBtoA', 'lift'],\n",
      "      dtype='object')\n",
      "The Dataset is:\n",
      "                                           itemA  \\\n",
      "0      Purina Mixed Grill Classic Pate Cat Food   \n",
      "1         The Red ONe: Squished Fruit Smoothies   \n",
      "2                Santa Fe Style Salad Cafe Bowl   \n",
      "3            Chicken Stew Natural Food for Dogs   \n",
      "4         Organic Wise Punkin Level 2 Baby Food   \n",
      "...                                         ...   \n",
      "11230                      Organic Hass Avocado   \n",
      "9330                       Organic Strawberries   \n",
      "503                             Organic Avocado   \n",
      "2746                                     Banana   \n",
      "3839                     Bag of Organic Bananas   \n",
      "\n",
      "                                              itemB  frequencyAB  supportAB  \\\n",
      "0      Liver & Chicken Dinner Classic Pate Cat Food            5   0.010729   \n",
      "1           The Yellow One Squished Smoothie Fruits            7   0.015021   \n",
      "2                  Cranberry Walnut Salad Cafe Bowl            5   0.010729   \n",
      "3                         Beef Stew Canned Dog Food            5   0.010729   \n",
      "4                      Organic Amaze Mint Baby Food            5   0.010729   \n",
      "...                                             ...          ...        ...   \n",
      "11230                               Organic Avocado            9   0.019313   \n",
      "9330                                   Strawberries            8   0.017167   \n",
      "503                            Organic Hass Avocado            5   0.010729   \n",
      "2746                         Bag of Organic Bananas           10   0.021459   \n",
      "3839                                         Banana            6   0.012875   \n",
      "\n",
      "       frequencyA   supportA  frequencyB   supportB  confidenceAtoB  \\\n",
      "0              13   0.027896           6   0.012875        0.384615   \n",
      "1              14   0.030042           9   0.019313        0.500000   \n",
      "2              14   0.030042           7   0.015021        0.357143   \n",
      "3              10   0.021459          10   0.021459        0.500000   \n",
      "4               9   0.019313          12   0.025751        0.555556   \n",
      "...           ...        ...         ...        ...             ...   \n",
      "11230        3311   7.104998        2706   5.806742        0.002718   \n",
      "9330         4006   8.596382        2204   4.729512        0.001997   \n",
      "503          2706   5.806742        3311   7.104998        0.001848   \n",
      "2746         7329  15.727130        5882  12.622047        0.001364   \n",
      "3839         5882  12.622047        7329  15.727130        0.001020   \n",
      "\n",
      "       confidenceBtoA       lift  \n",
      "0            0.833333  29.872436  \n",
      "1            0.777778  25.889444  \n",
      "2            0.714286  23.776020  \n",
      "3            0.500000  23.300500  \n",
      "4            0.416667  21.574537  \n",
      "...               ...        ...  \n",
      "11230        0.003326   0.000468  \n",
      "9330         0.003630   0.000422  \n",
      "503          0.001510   0.000260  \n",
      "2746         0.001700   0.000108  \n",
      "3839         0.000819   0.000065  \n",
      "\n",
      "[62406 rows x 11 columns]\n"
     ]
    }
   ],
   "source": [
    "# Replace item ID with item name and display association rules\n",
    "item_name   = pd.read_csv('D:\\\\Welingkar\\\\Trim 5\\\\IM\\\\instacart-market-basket-analysis\\\\products.csv\\\\products.csv')\n",
    "item_name   = item_name.rename(columns={'product_id':'item_id', 'product_name':'item_name'})\n",
    "rules_final = merge_item_name(rules, item_name).sort_values('lift', ascending=False)\n",
    "print(\"The columns in the new dataset are:\\n\",rules_final.columns)\n",
    "print(\"The Dataset is:\\n\",rules_final)\n",
    "rules_final.to_csv(\"Rules_Final.csv\")"
   ]
  },
  {
   "cell_type": "raw",
   "metadata": {},
   "source": [
    "From the output above, we see that the top associations are not surprising, with one flavor of an item being purchased with another flavor from the same item family (eg: Strawberry Chia Cottage Cheese with Blueberry Acai Cottage Cheese, Chicken Cat Food with Turkey Cat Food, etc). As mentioned, one common application of association rules mining is in the domain of recommender systems. Once item pairs have been identified as having positive relationship, recommendations can be made to customers in order to increase sales. And hopefully, along the way, also introduce customers to items they never would have tried before or even imagined existed!"
   ]
  },
  {
   "cell_type": "markdown",
   "metadata": {},
   "source": [
    "# Hierarchical Clustering"
   ]
  },
  {
   "cell_type": "code",
   "execution_count": 67,
   "metadata": {},
   "outputs": [
    {
     "data": {
      "text/html": [
       "<div>\n",
       "<style scoped>\n",
       "    .dataframe tbody tr th:only-of-type {\n",
       "        vertical-align: middle;\n",
       "    }\n",
       "\n",
       "    .dataframe tbody tr th {\n",
       "        vertical-align: top;\n",
       "    }\n",
       "\n",
       "    .dataframe thead th {\n",
       "        text-align: right;\n",
       "    }\n",
       "</style>\n",
       "<table border=\"1\" class=\"dataframe\">\n",
       "  <thead>\n",
       "    <tr style=\"text-align: right;\">\n",
       "      <th></th>\n",
       "      <th>product_id</th>\n",
       "      <th>product_name</th>\n",
       "      <th>aisle_id</th>\n",
       "      <th>department_id</th>\n",
       "      <th>count</th>\n",
       "      <th>reordered</th>\n",
       "      <th>reorder_rate</th>\n",
       "      <th>add_to_cart_mean</th>\n",
       "      <th>order_dow</th>\n",
       "      <th>order_hour_of_day</th>\n",
       "      <th>days_since_prior_order</th>\n",
       "    </tr>\n",
       "  </thead>\n",
       "  <tbody>\n",
       "    <tr>\n",
       "      <th>1</th>\n",
       "      <td>2</td>\n",
       "      <td>All-Seasons Salt</td>\n",
       "      <td>104</td>\n",
       "      <td>13</td>\n",
       "      <td>76</td>\n",
       "      <td>49</td>\n",
       "      <td>0.644737</td>\n",
       "      <td>6.921053</td>\n",
       "      <td>2.868421</td>\n",
       "      <td>14.236842</td>\n",
       "      <td>11.547945</td>\n",
       "    </tr>\n",
       "    <tr>\n",
       "      <th>2</th>\n",
       "      <td>3</td>\n",
       "      <td>Robust Golden Unsweetened Oolong Tea</td>\n",
       "      <td>94</td>\n",
       "      <td>7</td>\n",
       "      <td>4</td>\n",
       "      <td>1</td>\n",
       "      <td>0.250000</td>\n",
       "      <td>15.750000</td>\n",
       "      <td>3.000000</td>\n",
       "      <td>13.000000</td>\n",
       "      <td>10.500000</td>\n",
       "    </tr>\n",
       "    <tr>\n",
       "      <th>3</th>\n",
       "      <td>4</td>\n",
       "      <td>Smart Ones Classic Favorites Mini Rigatoni Wit...</td>\n",
       "      <td>38</td>\n",
       "      <td>1</td>\n",
       "      <td>6</td>\n",
       "      <td>6</td>\n",
       "      <td>1.000000</td>\n",
       "      <td>4.500000</td>\n",
       "      <td>2.833333</td>\n",
       "      <td>15.333333</td>\n",
       "      <td>7.833333</td>\n",
       "    </tr>\n",
       "    <tr>\n",
       "      <th>4</th>\n",
       "      <td>5</td>\n",
       "      <td>Green Chile Anytime Sauce</td>\n",
       "      <td>5</td>\n",
       "      <td>13</td>\n",
       "      <td>22</td>\n",
       "      <td>14</td>\n",
       "      <td>0.636364</td>\n",
       "      <td>8.954545</td>\n",
       "      <td>3.045455</td>\n",
       "      <td>15.045455</td>\n",
       "      <td>9.500000</td>\n",
       "    </tr>\n",
       "    <tr>\n",
       "      <th>5</th>\n",
       "      <td>6</td>\n",
       "      <td>Dry Nose Oil</td>\n",
       "      <td>11</td>\n",
       "      <td>11</td>\n",
       "      <td>1</td>\n",
       "      <td>1</td>\n",
       "      <td>1.000000</td>\n",
       "      <td>5.000000</td>\n",
       "      <td>4.000000</td>\n",
       "      <td>9.000000</td>\n",
       "      <td>15.000000</td>\n",
       "    </tr>\n",
       "  </tbody>\n",
       "</table>\n",
       "</div>"
      ],
      "text/plain": [
       "   product_id                                       product_name  aisle_id  \\\n",
       "1           2                                   All-Seasons Salt       104   \n",
       "2           3               Robust Golden Unsweetened Oolong Tea        94   \n",
       "3           4  Smart Ones Classic Favorites Mini Rigatoni Wit...        38   \n",
       "4           5                          Green Chile Anytime Sauce         5   \n",
       "5           6                                       Dry Nose Oil        11   \n",
       "\n",
       "   department_id  count  reordered  reorder_rate  add_to_cart_mean  order_dow  \\\n",
       "1             13     76         49      0.644737          6.921053   2.868421   \n",
       "2              7      4          1      0.250000         15.750000   3.000000   \n",
       "3              1      6          6      1.000000          4.500000   2.833333   \n",
       "4             13     22         14      0.636364          8.954545   3.045455   \n",
       "5             11      1          1      1.000000          5.000000   4.000000   \n",
       "\n",
       "   order_hour_of_day  days_since_prior_order  \n",
       "1          14.236842               11.547945  \n",
       "2          13.000000               10.500000  \n",
       "3          15.333333                7.833333  \n",
       "4          15.045455                9.500000  \n",
       "5           9.000000               15.000000  "
      ]
     },
     "metadata": {},
     "output_type": "display_data"
    },
    {
     "data": {
      "text/plain": [
       "(39122, 11)"
      ]
     },
     "execution_count": 67,
     "metadata": {},
     "output_type": "execute_result"
    }
   ],
   "source": [
    "# Add averages\n",
    "\n",
    "temp = pd.merge(left=products,\n",
    "         right=order_products_train.product_id.value_counts().to_frame('count'), \n",
    "         left_index=True, right_index=True)\n",
    "\n",
    "temp = pd.merge(left=temp, \n",
    "                    right=pd.DataFrame(order_products_train.groupby('product_id').reordered.sum().to_frame(), dtype='int64'),  \n",
    "                    left_index=True, right_index=True)\n",
    "\n",
    "temp['reorder_rate'] = temp['reordered']/temp['count']\n",
    "\n",
    "temp = pd.merge(left=temp, \n",
    "                right=order_products_train.groupby('product_id').add_to_cart_order.mean().to_frame('add_to_cart_mean'),\n",
    "                left_index=True, right_index=True)\n",
    "\n",
    "temp = pd.merge(left=temp, \n",
    "                right=pd.merge(left=order_products_train, \n",
    "                               right=orders[['order_dow', 'order_hour_of_day', 'days_since_prior_order']], \n",
    "                               left_on='order_id', right_index=True).groupby('product_id').order_dow.mean().to_frame(),\n",
    "                left_index=True, right_index=True)\n",
    "\n",
    "temp = pd.merge(left=temp, \n",
    "                right=pd.merge(left=order_products_train, \n",
    "                               right=orders[['order_dow', 'order_hour_of_day', 'days_since_prior_order']], \n",
    "                               left_on='order_id', right_index=True).groupby('product_id').order_hour_of_day.mean().to_frame(),\n",
    "                left_index=True, right_index=True)\n",
    "\n",
    "temp = pd.merge(left=temp, \n",
    "                right=pd.merge(left=order_products_train, \n",
    "                               right=orders[['order_dow', 'order_hour_of_day', 'days_since_prior_order']], \n",
    "                               left_on='order_id', right_index=True).groupby('product_id').days_since_prior_order.mean().to_frame(),\n",
    "                left_index=True, right_index=True)\n",
    "display(temp.head())\n",
    "temp.shape"
   ]
  },
  {
   "cell_type": "code",
   "execution_count": 68,
   "metadata": {},
   "outputs": [
    {
     "data": {
      "text/plain": [
       "(13377, 11)"
      ]
     },
     "execution_count": 68,
     "metadata": {},
     "output_type": "execute_result"
    }
   ],
   "source": [
    "## Remove all the products with less than 11 orders\n",
    "temp = temp[temp['count'] > 10]\n",
    "temp.shape"
   ]
  },
  {
   "cell_type": "code",
   "execution_count": 69,
   "metadata": {},
   "outputs": [],
   "source": [
    "## Scaling with standard scaler\n",
    "temp.drop(['product_name', 'department_id', 'aisle_id', 'reordered'], axis=1, inplace=True)\n",
    "scaler = StandardScaler()\n",
    "temp_scaled = scaler.fit_transform(temp)"
   ]
  },
  {
   "cell_type": "code",
   "execution_count": 70,
   "metadata": {},
   "outputs": [],
   "source": [
    "## Plot the dendograms\n",
    "def fancy_dendrogram(*args, **kwargs):\n",
    "    max_d = kwargs.pop('max_d', None)\n",
    "    if max_d and 'color_threshold' not in kwargs:\n",
    "        kwargs['color_threshold'] = max_d\n",
    "    annotate_above = kwargs.pop('annotate_above', 0)\n",
    "    plt.figure(figsize=(15,10))\n",
    "    ddata = dendrogram(*args, **kwargs)\n",
    "\n",
    "    if not kwargs.get('no_plot', False):\n",
    "        plt.title('Hierarchical Clustering Dendrogram (truncated)')\n",
    "        plt.xlabel('sample index or (cluster size)')\n",
    "        plt.ylabel('distance')\n",
    "        for i, d, c in zip(ddata['icoord'], ddata['dcoord'], ddata['color_list']):\n",
    "            x = 0.5 * sum(i[1:3])\n",
    "            y = d[1]\n",
    "            if y > annotate_above:\n",
    "                plt.plot(x, y, 'o', c=c)\n",
    "                plt.annotate(\"%.3g\" % y, (x, y), xytext=(0, -5),\n",
    "                             textcoords='offset points',\n",
    "                             va='top', ha='center')\n",
    "        if max_d:\n",
    "            plt.axhline(y=max_d, c='k')\n",
    "    return ddata"
   ]
  },
  {
   "cell_type": "code",
   "execution_count": 71,
   "metadata": {},
   "outputs": [
    {
     "data": {
      "image/png": "[encoded data removed]",
      "text/plain": [
       "<Figure size 1080x720 with 1 Axes>"
      ]
     },
     "metadata": {},
     "output_type": "display_data"
    }
   ],
   "source": [
    "## Plot dendogram for standard scaler\n",
    "linked_array = ward(temp_scaled)\n",
    "fancy_dendrogram(linked_array, truncate_mode='lastp', p=30, leaf_rotation=90., leaf_font_size=12., show_contracted=True, annotate_above=10, max_d=80)\n",
    "plt.show()"
   ]
  },
  {
   "cell_type": "code",
   "execution_count": 72,
   "metadata": {},
   "outputs": [
    {
     "name": "stdout",
     "output_type": "stream",
     "text": [
      "Distances for the last 5 merges:\n",
      "[ 77.73051854  81.44870887 101.18222138 102.42757101 118.99965813]\n"
     ]
    }
   ],
   "source": [
    "print('Distances for the last 5 merges:\\n{}'.format(linked_array[-5:,2]))"
   ]
  },
  {
   "cell_type": "code",
   "execution_count": 73,
   "metadata": {},
   "outputs": [
    {
     "name": "stdout",
     "output_type": "stream",
     "text": [
      "reorder rates for each cluster\n",
      "\n",
      "\n",
      "label: 1\n",
      "n: 78\n",
      "rr: 70.89\n",
      "\n",
      "label: 2\n",
      "n: 3978\n",
      "rr: 59.48\n",
      "\n",
      "label: 3\n",
      "n: 5574\n",
      "rr: 52.09\n",
      "\n",
      "label: 4\n",
      "n: 1834\n",
      "rr: 38.57\n",
      "\n",
      "label: 5\n",
      "n: 1913\n",
      "rr: 44.8\n"
     ]
    }
   ],
   "source": [
    "## Determine the total number of clusters and the elements of each cluster and the percetage of reorder frequency\n",
    "max_d = 80\n",
    "clusters = fcluster(linked_array, max_d, criterion='distance')\n",
    "labels, counts = np.unique(clusters, return_counts=True)\n",
    "temp['clusters'] = clusters\n",
    "print('reorder rates for each cluster\\n')\n",
    "for i in range(1,len(np.unique(clusters))+1):\n",
    "    print('\\nlabel: {}'.format(i))\n",
    "    print('n: {}'.format(counts[i-1]))\n",
    "    print('rr: {}'.format(round(temp[temp['clusters'] == i].reorder_rate.mean()*100, 2))) "
   ]
  },
  {
   "cell_type": "code",
   "execution_count": 74,
   "metadata": {},
   "outputs": [
    {
     "data": {
      "text/html": [
       "<div>\n",
       "<style scoped>\n",
       "    .dataframe tbody tr th:only-of-type {\n",
       "        vertical-align: middle;\n",
       "    }\n",
       "\n",
       "    .dataframe tbody tr th {\n",
       "        vertical-align: top;\n",
       "    }\n",
       "\n",
       "    .dataframe thead th {\n",
       "        text-align: right;\n",
       "    }\n",
       "</style>\n",
       "<table border=\"1\" class=\"dataframe\">\n",
       "  <thead>\n",
       "    <tr style=\"text-align: right;\">\n",
       "      <th></th>\n",
       "      <th>product_id</th>\n",
       "      <th>count</th>\n",
       "      <th>reorder_rate</th>\n",
       "      <th>add_to_cart_mean</th>\n",
       "      <th>order_dow</th>\n",
       "      <th>order_hour_of_day</th>\n",
       "      <th>days_since_prior_order</th>\n",
       "      <th>clusters</th>\n",
       "    </tr>\n",
       "  </thead>\n",
       "  <tbody>\n",
       "    <tr>\n",
       "      <th>4605</th>\n",
       "      <td>4606</td>\n",
       "      <td>3762</td>\n",
       "      <td>0.677299</td>\n",
       "      <td>8.417331</td>\n",
       "      <td>2.780702</td>\n",
       "      <td>13.429825</td>\n",
       "      <td>10.884898</td>\n",
       "      <td>1</td>\n",
       "    </tr>\n",
       "    <tr>\n",
       "      <th>4920</th>\n",
       "      <td>4921</td>\n",
       "      <td>4059</td>\n",
       "      <td>0.706824</td>\n",
       "      <td>8.346883</td>\n",
       "      <td>2.789603</td>\n",
       "      <td>13.439517</td>\n",
       "      <td>11.243717</td>\n",
       "      <td>1</td>\n",
       "    </tr>\n",
       "    <tr>\n",
       "      <th>5077</th>\n",
       "      <td>5078</td>\n",
       "      <td>2298</td>\n",
       "      <td>0.762402</td>\n",
       "      <td>7.596171</td>\n",
       "      <td>2.758050</td>\n",
       "      <td>13.360313</td>\n",
       "      <td>10.961111</td>\n",
       "      <td>1</td>\n",
       "    </tr>\n",
       "    <tr>\n",
       "      <th>5450</th>\n",
       "      <td>5451</td>\n",
       "      <td>3103</td>\n",
       "      <td>0.705446</td>\n",
       "      <td>7.341283</td>\n",
       "      <td>2.689977</td>\n",
       "      <td>13.325814</td>\n",
       "      <td>11.319740</td>\n",
       "      <td>1</td>\n",
       "    </tr>\n",
       "    <tr>\n",
       "      <th>5876</th>\n",
       "      <td>5877</td>\n",
       "      <td>3505</td>\n",
       "      <td>0.716120</td>\n",
       "      <td>8.381455</td>\n",
       "      <td>2.765193</td>\n",
       "      <td>13.366619</td>\n",
       "      <td>11.402365</td>\n",
       "      <td>1</td>\n",
       "    </tr>\n",
       "    <tr>\n",
       "      <th>...</th>\n",
       "      <td>...</td>\n",
       "      <td>...</td>\n",
       "      <td>...</td>\n",
       "      <td>...</td>\n",
       "      <td>...</td>\n",
       "      <td>...</td>\n",
       "      <td>...</td>\n",
       "      <td>...</td>\n",
       "    </tr>\n",
       "    <tr>\n",
       "      <th>47626</th>\n",
       "      <td>47627</td>\n",
       "      <td>8135</td>\n",
       "      <td>0.728089</td>\n",
       "      <td>8.063307</td>\n",
       "      <td>2.767056</td>\n",
       "      <td>13.457283</td>\n",
       "      <td>11.216387</td>\n",
       "      <td>1</td>\n",
       "    </tr>\n",
       "    <tr>\n",
       "      <th>47766</th>\n",
       "      <td>47767</td>\n",
       "      <td>7409</td>\n",
       "      <td>0.840329</td>\n",
       "      <td>6.417735</td>\n",
       "      <td>2.778783</td>\n",
       "      <td>13.510595</td>\n",
       "      <td>11.166619</td>\n",
       "      <td>1</td>\n",
       "    </tr>\n",
       "    <tr>\n",
       "      <th>48679</th>\n",
       "      <td>48680</td>\n",
       "      <td>2568</td>\n",
       "      <td>0.653816</td>\n",
       "      <td>9.731698</td>\n",
       "      <td>2.751558</td>\n",
       "      <td>13.556075</td>\n",
       "      <td>11.023554</td>\n",
       "      <td>1</td>\n",
       "    </tr>\n",
       "    <tr>\n",
       "      <th>49235</th>\n",
       "      <td>49236</td>\n",
       "      <td>2646</td>\n",
       "      <td>0.804611</td>\n",
       "      <td>6.317460</td>\n",
       "      <td>2.763794</td>\n",
       "      <td>13.411565</td>\n",
       "      <td>10.990696</td>\n",
       "      <td>1</td>\n",
       "    </tr>\n",
       "    <tr>\n",
       "      <th>49683</th>\n",
       "      <td>49684</td>\n",
       "      <td>2413</td>\n",
       "      <td>0.708247</td>\n",
       "      <td>7.414836</td>\n",
       "      <td>2.786573</td>\n",
       "      <td>13.486946</td>\n",
       "      <td>11.262577</td>\n",
       "      <td>1</td>\n",
       "    </tr>\n",
       "  </tbody>\n",
       "</table>\n",
       "<p>78 rows × 8 columns</p>\n",
       "</div>"
      ],
      "text/plain": [
       "       product_id  count  reorder_rate  add_to_cart_mean  order_dow  \\\n",
       "4605         4606   3762      0.677299          8.417331   2.780702   \n",
       "4920         4921   4059      0.706824          8.346883   2.789603   \n",
       "5077         5078   2298      0.762402          7.596171   2.758050   \n",
       "5450         5451   3103      0.705446          7.341283   2.689977   \n",
       "5876         5877   3505      0.716120          8.381455   2.765193   \n",
       "...           ...    ...           ...               ...        ...   \n",
       "47626       47627   8135      0.728089          8.063307   2.767056   \n",
       "47766       47767   7409      0.840329          6.417735   2.778783   \n",
       "48679       48680   2568      0.653816          9.731698   2.751558   \n",
       "49235       49236   2646      0.804611          6.317460   2.763794   \n",
       "49683       49684   2413      0.708247          7.414836   2.786573   \n",
       "\n",
       "       order_hour_of_day  days_since_prior_order  clusters  \n",
       "4605           13.429825               10.884898         1  \n",
       "4920           13.439517               11.243717         1  \n",
       "5077           13.360313               10.961111         1  \n",
       "5450           13.325814               11.319740         1  \n",
       "5876           13.366619               11.402365         1  \n",
       "...                  ...                     ...       ...  \n",
       "47626          13.457283               11.216387         1  \n",
       "47766          13.510595               11.166619         1  \n",
       "48679          13.556075               11.023554         1  \n",
       "49235          13.411565               10.990696         1  \n",
       "49683          13.486946               11.262577         1  \n",
       "\n",
       "[78 rows x 8 columns]"
      ]
     },
     "metadata": {},
     "output_type": "display_data"
    }
   ],
   "source": [
    "## Displaying the results o the clusters formed\n",
    "display(temp[clusters == 1])"
   ]
  },
  {
   "cell_type": "code",
   "execution_count": 75,
   "metadata": {},
   "outputs": [
    {
     "name": "stdout",
     "output_type": "stream",
     "text": [
      "reorder rate for cluster 3: 52.09\n"
     ]
    },
    {
     "data": {
      "text/html": [
       "<div>\n",
       "<style scoped>\n",
       "    .dataframe tbody tr th:only-of-type {\n",
       "        vertical-align: middle;\n",
       "    }\n",
       "\n",
       "    .dataframe tbody tr th {\n",
       "        vertical-align: top;\n",
       "    }\n",
       "\n",
       "    .dataframe thead th {\n",
       "        text-align: right;\n",
       "    }\n",
       "</style>\n",
       "<table border=\"1\" class=\"dataframe\">\n",
       "  <thead>\n",
       "    <tr style=\"text-align: right;\">\n",
       "      <th></th>\n",
       "      <th>product_id_x</th>\n",
       "      <th>product_name</th>\n",
       "      <th>aisle_id</th>\n",
       "      <th>department_id</th>\n",
       "      <th>product_id_y</th>\n",
       "      <th>count</th>\n",
       "      <th>reorder_rate</th>\n",
       "      <th>add_to_cart_mean</th>\n",
       "      <th>order_dow</th>\n",
       "      <th>order_hour_of_day</th>\n",
       "      <th>days_since_prior_order</th>\n",
       "      <th>clusters</th>\n",
       "    </tr>\n",
       "  </thead>\n",
       "  <tbody>\n",
       "    <tr>\n",
       "      <th>1</th>\n",
       "      <td>2</td>\n",
       "      <td>All-Seasons Salt</td>\n",
       "      <td>104</td>\n",
       "      <td>13</td>\n",
       "      <td>2</td>\n",
       "      <td>76</td>\n",
       "      <td>0.644737</td>\n",
       "      <td>6.921053</td>\n",
       "      <td>2.868421</td>\n",
       "      <td>14.236842</td>\n",
       "      <td>11.547945</td>\n",
       "      <td>3</td>\n",
       "    </tr>\n",
       "    <tr>\n",
       "      <th>4</th>\n",
       "      <td>5</td>\n",
       "      <td>Green Chile Anytime Sauce</td>\n",
       "      <td>5</td>\n",
       "      <td>13</td>\n",
       "      <td>5</td>\n",
       "      <td>22</td>\n",
       "      <td>0.636364</td>\n",
       "      <td>8.954545</td>\n",
       "      <td>3.045455</td>\n",
       "      <td>15.045455</td>\n",
       "      <td>9.500000</td>\n",
       "      <td>3</td>\n",
       "    </tr>\n",
       "    <tr>\n",
       "      <th>8</th>\n",
       "      <td>9</td>\n",
       "      <td>Light Strawberry Blueberry Yogurt</td>\n",
       "      <td>120</td>\n",
       "      <td>16</td>\n",
       "      <td>9</td>\n",
       "      <td>13</td>\n",
       "      <td>0.538462</td>\n",
       "      <td>9.846154</td>\n",
       "      <td>3.000000</td>\n",
       "      <td>14.846154</td>\n",
       "      <td>7.615385</td>\n",
       "      <td>3</td>\n",
       "    </tr>\n",
       "    <tr>\n",
       "      <th>10</th>\n",
       "      <td>11</td>\n",
       "      <td>Peach Mango Juice</td>\n",
       "      <td>31</td>\n",
       "      <td>7</td>\n",
       "      <td>11</td>\n",
       "      <td>119</td>\n",
       "      <td>0.588235</td>\n",
       "      <td>8.285714</td>\n",
       "      <td>3.033613</td>\n",
       "      <td>13.815126</td>\n",
       "      <td>11.530435</td>\n",
       "      <td>3</td>\n",
       "    </tr>\n",
       "    <tr>\n",
       "      <th>23</th>\n",
       "      <td>24</td>\n",
       "      <td>Tri-Vi-Sol® Vitamins A-C-and D Supplement Drop...</td>\n",
       "      <td>47</td>\n",
       "      <td>11</td>\n",
       "      <td>24</td>\n",
       "      <td>70</td>\n",
       "      <td>0.528571</td>\n",
       "      <td>11.985714</td>\n",
       "      <td>2.971429</td>\n",
       "      <td>13.742857</td>\n",
       "      <td>10.184615</td>\n",
       "      <td>3</td>\n",
       "    </tr>\n",
       "  </tbody>\n",
       "</table>\n",
       "</div>"
      ],
      "text/plain": [
       "    product_id_x                                       product_name  aisle_id  \\\n",
       "1              2                                   All-Seasons Salt       104   \n",
       "4              5                          Green Chile Anytime Sauce         5   \n",
       "8              9                  Light Strawberry Blueberry Yogurt       120   \n",
       "10            11                                  Peach Mango Juice        31   \n",
       "23            24  Tri-Vi-Sol® Vitamins A-C-and D Supplement Drop...        47   \n",
       "\n",
       "    department_id  product_id_y  count  reorder_rate  add_to_cart_mean  \\\n",
       "1              13             2     76      0.644737          6.921053   \n",
       "4              13             5     22      0.636364          8.954545   \n",
       "8              16             9     13      0.538462          9.846154   \n",
       "10              7            11    119      0.588235          8.285714   \n",
       "23             11            24     70      0.528571         11.985714   \n",
       "\n",
       "    order_dow  order_hour_of_day  days_since_prior_order  clusters  \n",
       "1    2.868421          14.236842               11.547945         3  \n",
       "4    3.045455          15.045455                9.500000         3  \n",
       "8    3.000000          14.846154                7.615385         3  \n",
       "10   3.033613          13.815126               11.530435         3  \n",
       "23   2.971429          13.742857               10.184615         3  "
      ]
     },
     "execution_count": 75,
     "metadata": {},
     "output_type": "execute_result"
    }
   ],
   "source": [
    "label = 3\n",
    "print('reorder rate for cluster {0}: {1}'.format(label, round(temp[temp['clusters'] == label].reorder_rate.mean()*100,2)))\n",
    "pd.merge(right=temp[temp['clusters'] == label], left=products, left_index=True, right_index=True).head()"
   ]
  },
  {
   "cell_type": "code",
   "execution_count": 76,
   "metadata": {},
   "outputs": [],
   "source": [
    "## Robust Scaler\n",
    "temp.drop('clusters', axis=1, inplace=True)\n",
    "robust_scaler = RobustScaler()\n",
    "temp_robust = robust_scaler.fit_transform(temp)"
   ]
  },
  {
   "cell_type": "code",
   "execution_count": 77,
   "metadata": {},
   "outputs": [
    {
     "data": {
      "image/png": "[encoded data removed]",
      "text/plain": [
       "<Figure size 1080x720 with 1 Axes>"
      ]
     },
     "metadata": {},
     "output_type": "display_data"
    }
   ],
   "source": [
    "linked_array = ward(temp_robust)\n",
    "fancy_dendrogram(linked_array, truncate_mode='lastp', p=30, leaf_rotation=90., leaf_font_size=12., show_contracted=True, annotate_above=10, max_d=300)\n",
    "plt.show()"
   ]
  },
  {
   "cell_type": "code",
   "execution_count": 78,
   "metadata": {},
   "outputs": [
    {
     "name": "stdout",
     "output_type": "stream",
     "text": [
      "reorder rates for each cluster\n",
      "\n",
      "\n",
      "label: 1\n",
      "n: 387\n",
      "rr: 64.04\n",
      "\n",
      "label: 2\n",
      "n: 12909\n",
      "rr: 51.0\n",
      "\n",
      "label: 3\n",
      "n: 71\n",
      "rr: 69.37\n",
      "\n",
      "label: 4\n",
      "n: 2\n",
      "rr: 87.37\n",
      "\n",
      "label: 5\n",
      "n: 8\n",
      "rr: 77.75\n"
     ]
    }
   ],
   "source": [
    "## Determine the total number of clusters and the elements of each cluster and the percetage of reorder frequency\n",
    "max_d = 300\n",
    "clusters = fcluster(linked_array, max_d, criterion='distance')\n",
    "labels, counts = np.unique(clusters, return_counts=True)\n",
    "temp['clusters'] = clusters\n",
    "print('reorder rates for each cluster\\n')\n",
    "for i in range(1,len(np.unique(clusters))+1):\n",
    "    print('\\nlabel: {}'.format(i))\n",
    "    print('n: {}'.format(counts[i-1]))\n",
    "    print('rr: {}'.format(round(temp[temp['clusters'] == i].reorder_rate.mean()*100, 2))) "
   ]
  },
  {
   "cell_type": "code",
   "execution_count": 79,
   "metadata": {},
   "outputs": [
    {
     "data": {
      "text/html": [
       "<div>\n",
       "<style scoped>\n",
       "    .dataframe tbody tr th:only-of-type {\n",
       "        vertical-align: middle;\n",
       "    }\n",
       "\n",
       "    .dataframe tbody tr th {\n",
       "        vertical-align: top;\n",
       "    }\n",
       "\n",
       "    .dataframe thead th {\n",
       "        text-align: right;\n",
       "    }\n",
       "</style>\n",
       "<table border=\"1\" class=\"dataframe\">\n",
       "  <thead>\n",
       "    <tr style=\"text-align: right;\">\n",
       "      <th></th>\n",
       "      <th>product_id</th>\n",
       "      <th>count</th>\n",
       "      <th>reorder_rate</th>\n",
       "      <th>add_to_cart_mean</th>\n",
       "      <th>order_dow</th>\n",
       "      <th>order_hour_of_day</th>\n",
       "      <th>days_since_prior_order</th>\n",
       "      <th>clusters</th>\n",
       "    </tr>\n",
       "  </thead>\n",
       "  <tbody>\n",
       "    <tr>\n",
       "      <th>13176</th>\n",
       "      <td>13177</td>\n",
       "      <td>15480</td>\n",
       "      <td>0.863178</td>\n",
       "      <td>4.763501</td>\n",
       "      <td>2.799225</td>\n",
       "      <td>13.432752</td>\n",
       "      <td>11.211426</td>\n",
       "      <td>4</td>\n",
       "    </tr>\n",
       "    <tr>\n",
       "      <th>24852</th>\n",
       "      <td>24853</td>\n",
       "      <td>18726</td>\n",
       "      <td>0.884172</td>\n",
       "      <td>4.959415</td>\n",
       "      <td>2.772135</td>\n",
       "      <td>13.434156</td>\n",
       "      <td>11.045400</td>\n",
       "      <td>4</td>\n",
       "    </tr>\n",
       "  </tbody>\n",
       "</table>\n",
       "</div>"
      ],
      "text/plain": [
       "       product_id  count  reorder_rate  add_to_cart_mean  order_dow  \\\n",
       "13176       13177  15480      0.863178          4.763501   2.799225   \n",
       "24852       24853  18726      0.884172          4.959415   2.772135   \n",
       "\n",
       "       order_hour_of_day  days_since_prior_order  clusters  \n",
       "13176          13.432752               11.211426         4  \n",
       "24852          13.434156               11.045400         4  "
      ]
     },
     "metadata": {},
     "output_type": "display_data"
    }
   ],
   "source": [
    "## Displaying the results of the clusters\n",
    "display(temp[clusters == 4])"
   ]
  },
  {
   "cell_type": "markdown",
   "metadata": {},
   "source": [
    "# RobustScaler gave us one bin with many products, which is less informative than StandardScaler."
   ]
  },
  {
   "cell_type": "markdown",
   "metadata": {},
   "source": [
    "In case you were curious, cluster 4 contains \"Bag of Organic Bananas\" and \"Banana\". Cluster 5 contained produce, all from department 4."
   ]
  },
  {
   "cell_type": "markdown",
   "metadata": {},
   "source": [
    "# How would our clusters change if we dropped everything but 'count' and 'reorder_rate'?"
   ]
  },
  {
   "cell_type": "code",
   "execution_count": 80,
   "metadata": {},
   "outputs": [],
   "source": [
    "temp_scaled = scaler.fit_transform(temp[['count', 'reorder_rate']])"
   ]
  },
  {
   "cell_type": "code",
   "execution_count": 81,
   "metadata": {},
   "outputs": [
    {
     "data": {
      "image/png": "[encoded data removed]",
      "text/plain": [
       "<Figure size 1080x720 with 1 Axes>"
      ]
     },
     "metadata": {},
     "output_type": "display_data"
    }
   ],
   "source": [
    "linked_array = ward(temp_scaled)\n",
    "fancy_dendrogram(linked_array, truncate_mode='lastp', p=30, leaf_rotation=90., leaf_font_size=12., show_contracted=True, annotate_above=10, max_d=50)\n",
    "plt.show()"
   ]
  },
  {
   "cell_type": "code",
   "execution_count": 82,
   "metadata": {},
   "outputs": [
    {
     "name": "stdout",
     "output_type": "stream",
     "text": [
      "reorder rates for each cluster\n",
      "\n",
      "\n",
      "label: 1\n",
      "n: 1249\n",
      "rr: 17.08\n",
      "\n",
      "label: 2\n",
      "n: 5135\n",
      "rr: 41.68\n",
      "\n",
      "label: 3\n",
      "n: 6829\n",
      "rr: 64.75\n",
      "\n",
      "label: 4\n",
      "n: 2\n",
      "rr: 87.37\n",
      "\n",
      "label: 5\n",
      "n: 136\n",
      "rr: 68.29\n",
      "\n",
      "label: 6\n",
      "n: 26\n",
      "rr: 73.04\n"
     ]
    }
   ],
   "source": [
    "## Determine the total number of clusters and the elements of each cluster and the percetage of reorder frequency\n",
    "max_d = 50\n",
    "clusters = fcluster(linked_array, max_d, criterion='distance')\n",
    "labels, counts = np.unique(clusters, return_counts=True)\n",
    "temp['clusters'] = clusters\n",
    "print('reorder rates for each cluster\\n')\n",
    "for i in range(1,len(np.unique(clusters))+1):\n",
    "    print('\\nlabel: {}'.format(i))\n",
    "    print('n: {}'.format(counts[i-1]))\n",
    "    print('rr: {}'.format(round(temp[temp['clusters'] == i].reorder_rate.mean()*100, 2))) "
   ]
  },
  {
   "cell_type": "code",
   "execution_count": 83,
   "metadata": {},
   "outputs": [
    {
     "data": {
      "text/html": [
       "<div>\n",
       "<style scoped>\n",
       "    .dataframe tbody tr th:only-of-type {\n",
       "        vertical-align: middle;\n",
       "    }\n",
       "\n",
       "    .dataframe tbody tr th {\n",
       "        vertical-align: top;\n",
       "    }\n",
       "\n",
       "    .dataframe thead th {\n",
       "        text-align: right;\n",
       "    }\n",
       "</style>\n",
       "<table border=\"1\" class=\"dataframe\">\n",
       "  <thead>\n",
       "    <tr style=\"text-align: right;\">\n",
       "      <th></th>\n",
       "      <th>product_id</th>\n",
       "      <th>count</th>\n",
       "      <th>reorder_rate</th>\n",
       "      <th>add_to_cart_mean</th>\n",
       "      <th>order_dow</th>\n",
       "      <th>order_hour_of_day</th>\n",
       "      <th>days_since_prior_order</th>\n",
       "      <th>clusters</th>\n",
       "    </tr>\n",
       "  </thead>\n",
       "  <tbody>\n",
       "    <tr>\n",
       "      <th>13176</th>\n",
       "      <td>13177</td>\n",
       "      <td>15480</td>\n",
       "      <td>0.863178</td>\n",
       "      <td>4.763501</td>\n",
       "      <td>2.799225</td>\n",
       "      <td>13.432752</td>\n",
       "      <td>11.211426</td>\n",
       "      <td>4</td>\n",
       "    </tr>\n",
       "    <tr>\n",
       "      <th>24852</th>\n",
       "      <td>24853</td>\n",
       "      <td>18726</td>\n",
       "      <td>0.884172</td>\n",
       "      <td>4.959415</td>\n",
       "      <td>2.772135</td>\n",
       "      <td>13.434156</td>\n",
       "      <td>11.045400</td>\n",
       "      <td>4</td>\n",
       "    </tr>\n",
       "  </tbody>\n",
       "</table>\n",
       "</div>"
      ],
      "text/plain": [
       "       product_id  count  reorder_rate  add_to_cart_mean  order_dow  \\\n",
       "13176       13177  15480      0.863178          4.763501   2.799225   \n",
       "24852       24853  18726      0.884172          4.959415   2.772135   \n",
       "\n",
       "       order_hour_of_day  days_since_prior_order  clusters  \n",
       "13176          13.432752               11.211426         4  \n",
       "24852          13.434156               11.045400         4  "
      ]
     },
     "metadata": {},
     "output_type": "display_data"
    }
   ],
   "source": [
    "## Displaying the elements of the clusters\n",
    "display(temp[clusters == 4])"
   ]
  },
  {
   "cell_type": "raw",
   "metadata": {},
   "source": [
    "This may be our most informative clustering yet. We have six different clusters, each with notably different reorder rates. There are 1,200+ products that only get reordered 17% of the time. Another 5,100 products only get reordered 42% of the time.\n",
    "\n",
    "We could narrow this down to four clusters:\n",
    "\n",
    "Cluster 1 (17%)\n",
    "Cluster 2 (42%)\n",
    "Cluster 3 (65%) and Cluster 5 (68%)\n",
    "Cluster 4 (87%) and Cluster 6 (73%)\n",
    "Next Steps: Add these different cluster results to a classification algorithm and see how it affects performance."
   ]
  }
 ],
 "metadata": {
  "kernelspec": {
   "display_name": "Python 3",
   "language": "python",
   "name": "python3"
  },
  "language_info": {
   "codemirror_mode": {
    "name": "ipython",
    "version": 3
   },
   "file_extension": ".py",
   "mimetype": "text/x-python",
   "name": "python",
   "nbconvert_exporter": "python",
   "pygments_lexer": "ipython3",
   "version": "3.8.3"
  }
 },
 "nbformat": 4,
 "nbformat_minor": 2
}
